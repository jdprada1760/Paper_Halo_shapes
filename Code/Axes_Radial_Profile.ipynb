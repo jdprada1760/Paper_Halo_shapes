{
 "cells": [
  {
   "cell_type": "code",
   "execution_count": 3,
   "metadata": {
    "collapsed": true,
    "deletable": true,
    "editable": true
   },
   "outputs": [],
   "source": [
    "import matplotlib\n",
    "matplotlib.use('Agg')\n",
    "import sys\n",
    "import gc\n",
    "import numpy as np\n",
    "import matplotlib.pyplot as plt\n",
    "from matplotlib.backends.backend_pdf import PdfPages\n",
    "from matplotlib.ticker import FormatStrFormatter\n",
    "\n",
    "# Fontsize\n",
    "matplotlib.rc('xtick', labelsize=12) \n",
    "matplotlib.rc('ytick', labelsize=12) \n",
    "# Latex font\n",
    "matplotlib.rcParams['mathtext.fontset'] = 'stix'\n",
    "matplotlib.rcParams['font.family'] = 'STIXGeneral'"
   ]
  },
  {
   "cell_type": "markdown",
   "metadata": {},
   "source": [
    "# Virial Radius"
   ]
  },
  {
   "cell_type": "code",
   "execution_count": 4,
   "metadata": {
    "collapsed": false
   },
   "outputs": [
    {
     "data": {
      "text/plain": [
       "Index(['DM', 'MHD'], dtype='object')"
      ]
     },
     "execution_count": 4,
     "metadata": {},
     "output_type": "execute_result"
    }
   ],
   "source": [
    "# The virial radius R200\n",
    "import pandas as pd\n",
    "Rvir200 = pd.read_csv('../Data/Halo_General/RVir200.csv')\n",
    "Rvir200.keys()"
   ]
  },
  {
   "cell_type": "markdown",
   "metadata": {},
   "source": [
    "# Closest radii to Rvir found for lvl 4MHD and DM\n",
    "Radii compraison and percent error"
   ]
  },
  {
   "cell_type": "code",
   "execution_count": 10,
   "metadata": {
    "collapsed": false
   },
   "outputs": [
    {
     "name": "stdout",
     "output_type": "stream",
     "text": [
      "-------------- halo 1---------------------\n",
      "DM:  196.927 193.917795373 1.52808128235\n",
      "MHD:  187.674 194.29879796 3.52994978507\n",
      "-------------- halo 2---------------------\n",
      "DM:  235.094 228.825654267 2.66631463723\n",
      "MHD:  233.934 218.548633467 6.57679795698\n",
      "-------------- halo 3---------------------\n",
      "DM:  210.693 223.670779992 6.1595686577\n",
      "MHD:  210.955 207.802038881 1.49461312542\n",
      "-------------- halo 4---------------------\n",
      "DM:  219.378 204.421559141 6.81765758587\n",
      "MHD:  215.438 225.891285372 4.85210843586\n",
      "-------------- halo 5---------------------\n",
      "DM:  196.984 192.317658299 2.36889376842\n",
      "MHD:  197.246 208.996680483 5.95737327167\n",
      "-------------- halo 6---------------------\n",
      "DM:  191.84 185.361918408 3.37681484169\n",
      "MHD:  189.342 178.531698955 5.70940469903\n",
      "-------------- halo 7---------------------\n",
      "DM:  197.864 197.894371214 0.01534954019\n",
      "MHD:  196.509 201.113531711 2.34316581493\n",
      "-------------- halo 8---------------------\n",
      "DM:  190.716 202.183666943 6.01295483518\n",
      "MHD:  191.764 179.822576817 6.22714544079\n",
      "-------------- halo 9---------------------\n",
      "DM:  195.826 191.984406599 1.96173817604\n",
      "MHD:  190.64 181.607753253 4.73785498665\n",
      "-------------- halo 10---------------------\n",
      "DM:  187.139 190.963578945 2.04371026078\n",
      "MHD:  188.147 179.457378585 4.6185277549\n",
      "-------------- halo 11---------------------\n",
      "DM:  221.821 236.277241422 6.51707521922\n",
      "MHD:  219.568 213.941410195 2.56257278136\n",
      "-------------- halo 12---------------------\n",
      "DM:  192.28 200.053864083 4.04299151402\n",
      "MHD:  192.038 183.622401216 4.38225704505\n",
      "-------------- halo 13---------------------\n",
      "DM:  202.139 193.26137932 4.39183961531\n",
      "MHD:  203.815 209.855892365 2.96390960663\n",
      "-------------- halo 14---------------------\n",
      "DM:  215.535 228.826865052 6.16691722992\n",
      "MHD:  218.927 208.695503923 4.67347384153\n",
      "-------------- halo 15---------------------\n",
      "DM:  199.848 190.906447893 4.47417642746\n",
      "MHD:  200.658 200.339256577 0.158849098149\n",
      "-------------- halo 16---------------------\n",
      "DM:  212.59 215.588776225 1.41059138485\n",
      "MHD:  212.632 212.631523609 0.000224044752691\n",
      "-------------- halo 17---------------------\n",
      "DM:  188.067 185.992360772 1.1031383644\n",
      "MHD:  187.404 187.787610083 0.20469684915\n",
      "-------------- halo 18---------------------\n",
      "DM:  201.124 211.971633413 5.39350520705\n",
      "MHD:  207.293 207.189789184 0.0497898223467\n",
      "-------------- halo 19---------------------\n",
      "DM:  200.244 188.479781518 5.87494181199\n",
      "MHD:  200.325 168.009435659 16.1315683717\n",
      "-------------- halo 20---------------------\n",
      "DM:  210.097 217.967829689 3.74628371156\n",
      "MHD:  211.423 184.757144492 12.6125613144\n",
      "-------------- halo 21---------------------\n",
      "DM:  219.527 205.593017379 6.34727510564\n",
      "MHD:  219.823 219.823181629 8.26251943028e-05\n",
      "-------------- halo 22---------------------\n",
      "DM:  188.363 198.641948237 5.4569890248\n",
      "MHD:  184.801 189.321012767 2.44588111916\n",
      "-------------- halo 23---------------------\n",
      "DM:  217.768 209.215352137 3.92741259621\n",
      "MHD:  215.959 202.24241182 6.35147790997\n",
      "-------------- halo 24---------------------\n",
      "DM:  217.44 207.771737392 4.44640480518\n",
      "MHD:  215.147 201.686948248 6.25621168414\n",
      "-------------- halo 25---------------------\n",
      "DM:  199.922 197.17289713 1.37508771924\n",
      "MHD:  198.299 205.213419945 3.48686576595\n",
      "-------------- halo 26---------------------\n",
      "DM:  219.984 219.006165182 0.444502699311\n",
      "MHD:  218.939 228.6039466 4.41444722061\n",
      "-------------- halo 27---------------------\n",
      "DM:  228.036 213.249447132 6.4843063672\n",
      "MHD:  226.225 236.352056114 4.47654154683\n",
      "-------------- halo 28---------------------\n",
      "DM:  216.979 226.804445828 4.52829344207\n",
      "MHD:  217.997 203.288045439 6.74731971591\n",
      "-------------- halo 29---------------------\n",
      "DM:  225.791 228.203597417 1.06850911533\n",
      "MHD:  219.935 220.182214531 0.112403451388\n",
      "-------------- halo 30---------------------\n",
      "DM:  195.043 193.230029555 0.929523461252\n",
      "MHD:  194.741 190.370912311 2.24405117026\n"
     ]
    }
   ],
   "source": [
    "from scipy.stats.mstats import gmean\n",
    "\n",
    "# Se define el nivel al cual se obtendran las graficas\n",
    "#lvl = 'level3'\n",
    "lvl = 'level4'\n",
    "\n",
    "# Los niveles tienen un conjunto distinto de halos\n",
    "halonums = None\n",
    "if lvl == 'level3':\n",
    "    halonums = [6,16,21,23,24,27]\n",
    "if lvl == 'level4':\n",
    "    halonums = range(1,31)\n",
    "\n",
    "# Measurements near rvir    \n",
    "axes_vir_MHD = np.loadtxt(\"../Data/Halo_Detail/\"+lvl+\"_MHD/\"+\"Semiaxes_rvir_1e2rvir.csv\", delimiter = ',')[:,:3]\n",
    "radsvMHD = gmean(axes_Rvir_MHD,axis = 1)\n",
    "\n",
    "axes_Rvir_MHD = []\n",
    "axes_Rvir_DM = []\n",
    "\n",
    "\n",
    "# Recorre los halos para encontrar la diferencia entre el radio virial \n",
    "# y el radio sampleado mas cercano\n",
    "for i in halonums:\n",
    "    # Obtiene el nombre de la carpeta para el halo especifico\n",
    "    # The difference\n",
    "    print(\"-------------- halo \"+str(i)+\"---------------------\")\n",
    "    halo = 'halo_'+str(i)\n",
    "    # Consulta los semiejes de DM y MHD\n",
    "    arrDM = np.loadtxt(\"../Data/Halo_Detail/\"+lvl+\"_DM/\"+halo+\"/\"+\"abc_\"+lvl+\"_DM_\"+halo+\".txt\", delimiter = ',')\n",
    "    # The list of all radii sampled\n",
    "    radsDM = gmean(arrDM,axis = 1)\n",
    "    # The minimum difference\n",
    "    argminDM = np.argmin(np.abs(radsDM-Rvir200['DM'][i-1]))\n",
    "    axes_Rvir_DM.append(arrDM[argminDM])\n",
    "    print('DM: ', Rvir200['DM'][i-1],radsDM[argminDM],100*abs(Rvir200['DM'][i-1]-radsDM[argminDM])/Rvir200['DM'][i-1])\n",
    "\n",
    "    if i != 20 and i != 19:\n",
    "        # Consulta los semiejes de DM y MHD\n",
    "        arrMHD = np.loadtxt(\"../Data/Halo_Detail/\"+lvl+\"_MHD/\"+halo+\"/\"+\"abc_\"+lvl+\"_MHD_\"+halo+\".txt\", delimiter = ',')\n",
    "        arrMHD = np.loadtxt(\"../Data/Halo_Detail/\"+lvl+\"_MHD/\"+halo+\"/\"+\"abc_\"+lvl+\"_MHD_\"+halo+\".txt\", delimiter = ',')\n",
    "\n",
    "        # The list of all radii sampled\n",
    "        radsMHD = gmean(arrMHD,axis = 1)\n",
    "        # The minimum difference\n",
    "        argminMHD = np.argmin(np.abs(radsMHD-Rvir200['MHD'][i-1]))\n",
    "        axes_Rvir_MHD.append(arrMHD[argminMHD])\n",
    "        print('MHD: ',Rvir200['MHD'][i-1],radsMHD[argminMHD],100*abs(Rvir200['MHD'][i-1]-radsMHD[argminMHD])/Rvir200['MHD'][i-1])\n",
    "    else: \n",
    "        axes_Rvir_MHD.append(axes_vir_MHD[i-1])\n",
    "        print('MHD: ',Rvir200['MHD'][i-1],radsvMHD[i-1],100*abs(Rvir200['MHD'][i-1]-radsvMHD[i-1])/Rvir200['MHD'][i-1])\n"
   ]
  },
  {
   "cell_type": "markdown",
   "metadata": {
    "deletable": true,
    "editable": true
   },
   "source": [
    "# Plots"
   ]
  },
  {
   "cell_type": "code",
   "execution_count": 7,
   "metadata": {
    "collapsed": false,
    "deletable": true,
    "editable": true
   },
   "outputs": [],
   "source": [
    "# Se define el nivel al cual se obtendran las graficas\n",
    "lvl = 'level3'\n",
    "#lvl = 'level4'\n",
    "\n",
    "# Los niveles tienen un conjunto distinto de halos\n",
    "halonums = None\n",
    "if lvl == 'level3':\n",
    "    halonums = [6,16,21,23,24,27]\n",
    "if lvl == 'level4':\n",
    "    halonums = range(1,31)\n",
    "\n",
    "\n",
    "# Graficas exportadas a pdf\n",
    "with PdfPages('../Graphs/DM_VS_MHD_'+lvl+'.pdf') as pdf:\n",
    "    for i in halonums:\n",
    "        # Obtiene el nombre de la carpeta para el halo especifico\n",
    "        halo = 'halo_'+str(i)\n",
    "\n",
    "        # Consulta los semiejes de DM y MHD\n",
    "        arrDM = np.loadtxt(\"../Data/Halo_Detail/\"+lvl+\"_DM/\"+halo+\"/\"+\"abc_\"+lvl+\"_DM_\"+halo+\".txt\", delimiter = ',')\n",
    "        arrMHD = np.loadtxt(\"../Data/Halo_Detail/\"+lvl+\"_MHD/\"+halo+\"/\"+\"abc_\"+lvl+\"_MHD_\"+halo+\".txt\", delimiter = ',')        \n",
    "        \n",
    "        # Obtiene los semiejes (planos y sin reescalar)\n",
    "        aDM,bDM,cDM = arrDM[:-1].T\n",
    "        aMHD,bMHD,cMHD = arrMHD[:-1].T\n",
    "\n",
    "        # Obtiene las fracciones de los semiejes\n",
    "        yvalsDM = np.array([bDM/aDM,cDM/aDM,(1-(bDM/aDM)**2)/(1-(cDM/aDM)**2)])  \n",
    "        xvalsDM = (aDM*bDM*cDM)**(1./3.)\n",
    "        yvalsMHD = np.array([bMHD/aMHD,cMHD/aMHD,(1-(bMHD/aMHD)**2)/(1-(cMHD/aMHD)**2)])\n",
    "        xvalsMHD = (aMHD*bMHD*cMHD)**(1./3.)\n",
    "        \n",
    "        \n",
    "\n",
    "        # Label de los ejes\n",
    "        ylabel = ['b/a','c/a','T']\n",
    "\n",
    "        # Define el radio virial \n",
    "        rvirDM = arrDM[-1][0]\n",
    "        rvirMHD = arrMHD[-1][0]\n",
    "\n",
    "        # La figura, cambiar tamano\n",
    "        fig, axs = plt.subplots(figsize=(7,7),nrows=len(yvalsDM))\n",
    "        for ax,yvalDM,yvalMHD,ylab in zip(axs,yvalsDM,yvalsMHD,ylabel):\n",
    "            ax.plot(xvalsDM,yvalDM, c = 'darkblue',linestyle = '--', label = \"DM\")\n",
    "            ax.plot(xvalsMHD,yvalMHD, c = 'darkred', label = \"MHD\")\n",
    "            ax.plot([rvirDM,rvirDM],[0,1],c = 'darkblue',linestyle = '--')\n",
    "            ax.plot([rvirMHD,rvirMHD],[0,1], c = 'darkred')\n",
    "            ax.set_xscale('log')\n",
    "            # Plotting ratios\n",
    "            ax.set_ylim(0,1)\n",
    "            # Valid for all Milkyway-like galaxies\n",
    "            ax.set_xlim(0.1,rvirDM+30)\n",
    "            ax.xaxis.set_major_formatter(FormatStrFormatter('%.1f'))\n",
    "            ax.set_ylabel(ylab,fontsize = 16)\n",
    "        axs[-1].set_xlabel(\"R(kpc/h)\",fontsize = 16)\n",
    "        plt.legend(loc = 0)\n",
    "        pdf.savefig(fig)\n",
    "        plt.close()"
   ]
  },
  {
   "cell_type": "code",
   "execution_count": null,
   "metadata": {
    "collapsed": true,
    "deletable": true,
    "editable": true
   },
   "outputs": [],
   "source": []
  },
  {
   "cell_type": "code",
   "execution_count": null,
   "metadata": {
    "collapsed": true,
    "deletable": true,
    "editable": true
   },
   "outputs": [],
   "source": []
  }
 ],
 "metadata": {
  "kernelspec": {
   "display_name": "Python 3",
   "language": "python",
   "name": "python3"
  },
  "language_info": {
   "codemirror_mode": {
    "name": "ipython",
    "version": 3
   },
   "file_extension": ".py",
   "mimetype": "text/x-python",
   "name": "python",
   "nbconvert_exporter": "python",
   "pygments_lexer": "ipython3",
   "version": "3.5.2"
  }
 },
 "nbformat": 4,
 "nbformat_minor": 2
}
