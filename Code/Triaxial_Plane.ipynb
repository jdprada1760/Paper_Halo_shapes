{
 "cells": [
  {
   "cell_type": "code",
   "execution_count": 1,
   "metadata": {
    "collapsed": true,
    "deletable": true,
    "editable": true
   },
   "outputs": [],
   "source": [
    "import matplotlib\n",
    "#matplotlib.use('Agg')\n",
    "import sys\n",
    "import gc\n",
    "import numpy as np\n",
    "import matplotlib.pyplot as plt\n",
    "from matplotlib.backends.backend_pdf import PdfPages\n",
    "from matplotlib.ticker import FormatStrFormatter\n",
    "\n",
    "# Para manejar los archivos y automatizar la lectura en directorios\n",
    "import csv\n",
    "import os\n",
    "# Fontsize\n",
    "matplotlib.rc('xtick', labelsize=14) \n",
    "matplotlib.rc('ytick', labelsize=14) \n",
    "# Latex font\n",
    "matplotlib.rcParams['mathtext.fontset'] = 'stix'\n",
    "matplotlib.rcParams['font.family'] = 'STIXGeneral'"
   ]
  },
  {
   "cell_type": "markdown",
   "metadata": {},
   "source": [
    "# Nombres de archivo, paths y definiciones"
   ]
  },
  {
   "cell_type": "code",
   "execution_count": 6,
   "metadata": {
    "collapsed": true
   },
   "outputs": [],
   "source": [
    "# SOME DEFINITIONS\n",
    "# Level of the simulation ('_' for filename format)\n",
    "lvl = 'Level 4/level4_'\n",
    "# number of halos\n",
    "nhalos = 30 \n",
    "\n",
    "'''# level of the simulation\n",
    "lvl = 'Level 3/level3_'\n",
    "# number of halos\n",
    "nhalos = 6''' \n",
    "\n",
    "# FOLDER CONTAINING ALL FILES\n",
    "folder = '../Data/Halo_General/'\n",
    "\n",
    "# FILENAMES\n",
    "# Contains parameters of the disk (MHD)\n",
    "fn_params = lvl+'params'+'.csv'\n",
    "# Triaxial eigensystem different radii (MHD & DM) using volumetric (mean) density: Allgood et al.\n",
    "fn_axes = lvl+'axes'+'.csv' # Axes = axial ratios (sqrt of eigenvals)\n",
    "fn_vecs = lvl+'vecs'+'.csv' # Vecs = principal axes directions"
   ]
  },
  {
   "cell_type": "markdown",
   "metadata": {},
   "source": [
    "# Definicion de funciones"
   ]
  },
  {
   "cell_type": "code",
   "execution_count": 7,
   "metadata": {
    "collapsed": true
   },
   "outputs": [],
   "source": [
    "# Reads file in \"path/filename\"\n",
    "# Returns data as a numpy array\n",
    "# Returns filenames as a list of strings\n",
    "# Returns headers as an array of strings\n",
    "\n",
    "def read_csv(filename,skip_header=1):\n",
    "\n",
    "    # Removes quotations from file (little writing error) \n",
    "    os.system('sed -i \\'s/\"//g\\' '+filename) \n",
    "    \n",
    "    # FILENAMES!\n",
    "    headers = []\n",
    "    with open( filename , 'r') as myfile:\n",
    "        rd = csv.reader(myfile)\n",
    "        headers = next(rd) # gets only first line \n",
    "    \n",
    "    data = np.genfromtxt(filename, delimiter = ',', skip_header=skip_header, dtype=float )\n",
    "    \n",
    "    return headers,data\n"
   ]
  },
  {
   "cell_type": "markdown",
   "metadata": {},
   "source": [
    "# Obteniendo los datos"
   ]
  },
  {
   "cell_type": "code",
   "execution_count": 8,
   "metadata": {
    "collapsed": false
   },
   "outputs": [
    {
     "name": "stdout",
     "output_type": "stream",
     "text": [
      "['a12', 'b12', 'c12', 'a25', 'b25', 'c25', 'a50', 'b50', 'c50', 'a1', 'b1', 'c1', 'aDisk', 'bDisk', 'cDisk']\n"
     ]
    }
   ],
   "source": [
    "# Obtiene el contenido del archivo de semiejes\n",
    "headers,axes = read_csv(folder+fn_axes)\n",
    "print(headers)\n",
    "# Obtiene el contenido del archivo de vctores propios asociados\n",
    "headers,vecs = read_csv(folder+fn_vecs)"
   ]
  },
  {
   "cell_type": "markdown",
   "metadata": {},
   "source": [
    "### Formato de archivo\n",
    "\\n\n",
    "<font size=3>\n",
    "En el archivo de semiejes, la primera letra es el semieje correspondiente $a>b>c$\n",
    "Los caracteres consecutivos indican el radio en el que fue caracterizada la forma:\n",
    "</font>\n",
    "\n",
    "*  $12 \\equiv 12.5\\%\\ R_{vir}$ \n",
    "*  $25 \\equiv 25\\%\\ R_{vir}$ \n",
    "*  $50 \\equiv 50\\%\\ R_{vir}$ \n",
    "*  $100 \\equiv 100\\%\\ R_{vir}$ \n",
    "*  $Disk \\equiv Sampleado\\ en\\ el\\ disco\\ estelar$ \n",
    "\n",
    "\\\n",
    "<font size=3>\n",
    "Adicionalmente, en terminos de filas, el archivo muestra los ejes de los halos MHD y DM intercalados de la siguiente manera:\n",
    "</font>\n",
    "\n",
    "*  --------Header------------\n",
    "*  ----Info Halo1 MHD----\n",
    "*  ----Info Halo1  DM------\n",
    "*  ----Info Halo2 MHD----\n",
    "*  ----Info Halo2  DM------\n",
    "*        -------------...--------------\n",
    "\n",
    "\\\n",
    "\n",
    "<font size=3>\n",
    "Para el archivo de vectores de ejes principales el formato sigue la misma logica\n",
    "</font>\n"
   ]
  },
  {
   "cell_type": "code",
   "execution_count": 9,
   "metadata": {
    "collapsed": true
   },
   "outputs": [],
   "source": [
    "# Dado el formato del archivo explicado anteriormente\n",
    "# Se obtienen los resultados en terminos de arrays\n",
    "\n",
    "# RADII SAMPLED\n",
    "rad_sampl = ['12.5%Rvir'\n",
    "            ,'25%Rvir'\n",
    "            ,'50%Rvir'\n",
    "            ,'100%Rvir'\n",
    "            ,'Stellar Disk']\n",
    "\n",
    "# AXES\n",
    "axes = np.reshape(axes,(2*nhalos,5,3)) # contains DM and MHD (2*nhalos) axes (3) sampled at (5) radii\n",
    "axesMHD = axes[::2] #organized halo1MHD,halo1DM,halo2MHD,halo2DM....\n",
    "axesDM = axes[1::2]\n",
    "\n",
    "# indices > haloid, rad_sampled, axis id\n",
    "\n",
    "# VECS\n",
    "vecs = np.reshape(vecs,(2*nhalos,5,3,3)) # contains DM and MHD (2*nhalos) vecs (3,3) sampled at (5) radii\n",
    "vecsMHD = vecs[::2]\n",
    "vecsDM = vecs[1::2]\n",
    "\n",
    "# indices > haloid, rad_sampled, axis id, vector component"
   ]
  },
  {
   "cell_type": "markdown",
   "metadata": {},
   "source": [
    "## El plano de triaxialidad"
   ]
  },
  {
   "cell_type": "code",
   "execution_count": 13,
   "metadata": {
    "collapsed": false
   },
   "outputs": [],
   "source": [
    "plt.rc('text', usetex=True)\n",
    "plt.rc('font', family='serif')\n",
    "for axe,name in (zip([axesDM,axesMHD],['DM','MHD'])):\n",
    "    # for the table (PAPER)\n",
    "    summary = np.array([axe[:,:,1]/axe[:,:,0], axe[:,:,2]/axe[:,:,0]])\n",
    "    mean = np.percentile(summary,50,axis=1)\n",
    "    std1  = np.percentile(summary,84,axis=1)-mean\n",
    "    std2  = mean - np.percentile(summary,16,axis=1)\n",
    "    tostr = lambda arr,s1,s2: ['%1.2f^{+%.2f}_{-%.2f}'%(arr[i],s1[i],s2[i]) for i in range(len(arr))]\n",
    "    #print(summary)\n",
    "    # Fonts \n",
    "    MEDIUM_SIZE = 30\n",
    "    SMALL_SIZE = 30\n",
    "    SSSMALL_SIZE = 16\n",
    "\n",
    "    plt.rc('font', size=SSSMALL_SIZE)          # controls default text sizes\n",
    "    plt.rc('axes', titlesize=MEDIUM_SIZE)     # fontsize of the axes title\n",
    "    plt.rc('axes', labelsize=MEDIUM_SIZE)    # fontsize of the x and y labels\n",
    "    plt.rc('xtick', labelsize=SMALL_SIZE)    # fontsize of the tick labels\n",
    "    plt.rc('ytick', labelsize=SMALL_SIZE)    # fontsize of the tick labels\n",
    "\n",
    "\n",
    "    fig = plt.figure(figsize=(10,10))\n",
    "    ax = fig.add_subplot(111,aspect='equal')\n",
    "\n",
    "    ax.plot(summary[0,:,0],summary[1,:,0],'ro',markersize=10,label= r\"$R_{1/8}$\" ) # 1/8 R \n",
    "    ax.errorbar(mean[0,0],mean[1,0],fmt='o', color='crimson' ,xerr=[[std1[0,0],std2[0,0]]],yerr=[[std1[1,0],std2[1,0]]])  \n",
    "    #ax.plot(summary[0,:,-3],summary[1,:,-3],'^',color='springgreen',markersize=10,label= r\"$R_{1/2}$\" ) # 1 R \n",
    "    ax.plot(summary[0,:,-2],summary[1,:,-2],'s',color='midnightblue',markersize=10,label= r\"$R$\" ) # 1 R\n",
    "    ax.errorbar(mean[0,-2],mean[1,-2],fmt='s',color='darkblue',xerr=[[std1[0,-2],std2[0,-2]]],yerr=[[std1[1,-2],std2[1,-2]]])\n",
    "\n",
    "\n",
    "\n",
    "    ax.set_xlim(0,1)\n",
    "    ax.set_ylim(0,1)\n",
    "\n",
    "    # Rotate angle\n",
    "    angle_pro = 45\n",
    "    pos_pro = np.array([0.4,0.45])\n",
    "    trans_angle_pro = ax.transData.transform_angles(np.array((angle_pro,)),\n",
    "                                                       pos_pro.reshape((1, 2)))[0]\n",
    "\n",
    "                                                       # Rotate angle\n",
    "    angle_ob = 90\n",
    "    pos_ob = np.array([1.06,0.35])\n",
    "    trans_angle_ob = ax.transData.transform_angles(np.array((angle_ob,)),\n",
    "                                                       pos_ob.reshape((1, 2)))[0]\n",
    "    # Plot text\n",
    "    prolate = ax.text(pos_pro[0],pos_pro[1], '\\\\textbf{Prolate}', fontsize=SMALL_SIZE-2,\n",
    "               rotation=trans_angle_pro, rotation_mode='anchor')\n",
    "    # Plot text\n",
    "    oblate = ax.text(pos_ob[0],pos_ob[1], '\\\\textbf{Oblate}', fontsize=SMALL_SIZE-2,\n",
    "               rotation=trans_angle_ob, rotation_mode='anchor')\n",
    "\n",
    "    # Plot text\n",
    "    sphere = ax.text(0.82,1.02\n",
    "    , '\\\\textbf{Sphere}', fontsize=SMALL_SIZE-5)           \n",
    "\n",
    "\n",
    "\n",
    "    ax.set_xlabel(r\"$b/a$\")\n",
    "    ax.set_ylabel(r\"$c/a$\")\n",
    "\n",
    "    ax.plot([0,1],[0,1],color='black')\n",
    "    plt.legend(loc=0)\n",
    "    #plt.show()\n",
    "    plot_name = '../Data/Halo_General/Lvl_4_Triax_Plane_'+name+'.png'\n",
    "    plt.savefig(plot_name,bbox_inches='tight')\n"
   ]
  },
  {
   "cell_type": "code",
   "execution_count": null,
   "metadata": {
    "collapsed": true
   },
   "outputs": [],
   "source": []
  }
 ],
 "metadata": {
  "kernelspec": {
   "display_name": "Python 3",
   "language": "python",
   "name": "python3"
  },
  "language_info": {
   "codemirror_mode": {
    "name": "ipython",
    "version": 3
   },
   "file_extension": ".py",
   "mimetype": "text/x-python",
   "name": "python",
   "nbconvert_exporter": "python",
   "pygments_lexer": "ipython3",
   "version": "3.5.2"
  }
 },
 "nbformat": 4,
 "nbformat_minor": 2
}
