{
 "cells": [
  {
   "cell_type": "code",
   "execution_count": 13,
   "metadata": {
    "collapsed": true
   },
   "outputs": [],
   "source": [
    "import matplotlib\n",
    "#matplotlib.use('Agg')\n",
    "import sys\n",
    "import gc\n",
    "import numpy as np\n",
    "import matplotlib.pyplot as plt\n",
    "from matplotlib.backends.backend_pdf import PdfPages\n",
    "from matplotlib.ticker import FormatStrFormatter\n",
    "\n",
    "# Para manejar los archivos y automatizar la lectura en directorios\n",
    "import csv\n",
    "import os"
   ]
  },
  {
   "cell_type": "markdown",
   "metadata": {},
   "source": [
    "# Nombres de archivo, paths y definiciones"
   ]
  },
  {
   "cell_type": "code",
   "execution_count": 14,
   "metadata": {
    "collapsed": true
   },
   "outputs": [],
   "source": [
    "# SOME DEFINITIONS\n",
    "# Level of the simulation ('_' for filename format)\n",
    "lvl = 'Level 4/level4_'\n",
    "# number of halos\n",
    "nhalos = 30 \n",
    "\n",
    "'''# level of the simulation\n",
    "lvl = 'Level 3/level3_'\n",
    "# number of halos\n",
    "nhalos = 6''' \n",
    "\n",
    "# FOLDER CONTAINING ALL FILES\n",
    "folder = '../Data/Halo_General/'\n",
    "\n",
    "# FILENAMES\n",
    "# Triaxial eigensystem different radii (MHD & DM) using volumetric (mean) density: Allgood et al.\n",
    "fn_axes = lvl+'axes'+'.csv' # Axes = axial ratios (sqrt of eigenvals)\n",
    "# Triaxial system approximation with Isopotential contours\n",
    "fn_axes_pot = lvl+'potential_axes'+'.csv'\n",
    "# Triaxial system approximation with Isodensity contours\n",
    "fn_axes_den = lvl+'density_axes'+'.csv'\n",
    "\n",
    "# Contains parameters of the disk (MHD)\n",
    "fn_params = lvl+'params'+'.csv'\n",
    "# Triaxial eigensystem different radii (MHD & DM) using volumetric (mean) density: Allgood et al.\n",
    "fn_axes = lvl+'axes'+'.csv' # Axes = axial ratios (sqrt of eigenvals)\n",
    "fn_vecs = lvl+'vecs'+'.csv' # Vecs = principal axes directions\n",
    "\n",
    "\n",
    "\n",
    "# Reads file in \"path/filename\"\n",
    "# Returns data as a numpy array\n",
    "# Returns filenames as a list of strings\n",
    "# Returns headers as an array of strings\n",
    "\n",
    "def read_csv(filename,skip_header=1):\n",
    "\n",
    "    # Removes quotations from file (little writing error) \n",
    "    os.system('sed -i \\'s/\"//g\\' '+filename) \n",
    "    \n",
    "    # FILENAMES!\n",
    "    headers = []\n",
    "    with open( filename , 'r') as myfile:\n",
    "        rd = csv.reader(myfile)\n",
    "        headers = next(rd) # gets only first line \n",
    "    \n",
    "    data = np.genfromtxt(filename, delimiter = ',', skip_header=skip_header, dtype=float )\n",
    "    \n",
    "    return headers,data"
   ]
  },
  {
   "cell_type": "markdown",
   "metadata": {},
   "source": [
    "# Obteniendo los datos"
   ]
  },
  {
   "cell_type": "code",
   "execution_count": 15,
   "metadata": {
    "collapsed": false
   },
   "outputs": [
    {
     "name": "stdout",
     "output_type": "stream",
     "text": [
      "['a12', 'b12', 'c12', 'a25', 'b25', 'c25', 'a50', 'b50', 'c50', 'a1', 'b1', 'c1', 'aDisk', 'bDisk', 'cDisk']\n"
     ]
    }
   ],
   "source": [
    "# Obtiene el contenido del archivo de semiejes\n",
    "headers,axes = read_csv(folder+fn_axes)\n",
    "print(headers)\n",
    "# Obtiene el contenido del archivo de vctores propios asociados\n",
    "headers,vecs = read_csv(folder+fn_vecs)\n",
    "# Archivo de informacion de materia de las galaxias\n",
    "\n",
    "##############\n",
    "# Parameters #\n",
    "##############\n",
    "# Parameter names, parameters associated to MHD galaxies\n",
    "params_nms,params = read_csv(folder+fn_params)\n",
    "# skip the first row of parameters (haloname)\n",
    "params = params.T[1:].T\n",
    "params_nms = params_nms[1:]\n",
    "\n",
    "# Dictionary of parameters\n",
    "par = dict(zip(params_nms,params.T))\n",
    "\n",
    "# Column fields are:\n",
    "#'SFR', 'DiskRad', 'MassGas', 'MassDM', 'MassStars', 'MassBH', 'HaloRadCrit500', 'vDisk1', 'vDisk2', 'vDisk3'\n",
    "\n",
    "# Important quantities (normalized)\n",
    "GasDiskRad = par['GasDiskRad']               # halfmass radius of gas\n",
    "StarDiskRad = par['StellarDiskRad']          # Same for stellar mass     \n",
    "gas_den = par['MassGas']#/(GasDiskRad**2)     # Mass densities\n",
    "star_den = par['MassStars']#/(StarDiskRad**2)\n",
    "BH_den = par['MassBH']#/(StarDiskRad**2)\n",
    "bar_frac = (par['MassGas']+par['MassStars'])/(par['MassDM']+par['MassGas']+par['MassStars']) # The baryonic fraction\n"
   ]
  },
  {
   "cell_type": "markdown",
   "metadata": {},
   "source": [
    "### Formato de archivo\n",
    "\\n\n",
    "<font size=3>\n",
    "En el archivo de semiejes, la primera letra es el semieje correspondiente $a>b>c$\n",
    "Los caracteres consecutivos indican el radio en el que fue caracterizada la forma:\n",
    "</font>\n",
    "\n",
    "*  $12 \\equiv 12.5\\%\\ R_{vir}$ \n",
    "*  $25 \\equiv 25\\%\\ R_{vir}$ \n",
    "*  $50 \\equiv 50\\%\\ R_{vir}$ \n",
    "*  $Disk \\equiv Sampleado\\ en\\ el\\ disco\\ estelar$ \n",
    "\n",
    "\\\n",
    "<font size=3>\n",
    "Adicionalmente, en terminos de filas, el archivo muestra los ejes de los halos MHD y DM intercalados de la siguiente manera:\n",
    "</font>\n",
    "\n",
    "*  --------Header------------\n",
    "*  ----Info Halo1 MHD----\n",
    "*  ----Info Halo1  DM------\n",
    "*  ----Info Halo2 MHD----\n",
    "*  ----Info Halo2  DM------\n",
    "*        -------------...--------------\n",
    "\n",
    "\\\n",
    "\n",
    "<font size=3>\n",
    "Para el archivo de vectores de ejes principales el formato sigue la misma logica\n",
    "</font>\n"
   ]
  },
  {
   "cell_type": "code",
   "execution_count": 16,
   "metadata": {
    "collapsed": true
   },
   "outputs": [],
   "source": [
    "# Dado el formato del archivo explicado anteriormente\n",
    "# Se obtienen los resultados en terminos de arrays\n",
    "\n",
    "# RADII SAMPLED\n",
    "rad_sampl = ['12.5%Rvir'\n",
    "            ,'25%Rvir'\n",
    "            ,'50%Rvir'\n",
    "            ,'100%Rvir'\n",
    "            ,'Stellar Disk']\n",
    "\n",
    "# AXES\n",
    "axes = np.reshape(axes,(2*nhalos,5,3)) # contains DM and MHD (2*nhalos) axes (3) sampled at (5) radii\n",
    "axesMHD = axes[::2] #organized halo1MHD,halo1DM,halo2MHD,halo2DM....\n",
    "axesDM = axes[1::2]\n",
    "\n",
    "# indices > haloid, rad_sampled, axis id\n",
    "\n",
    "# VECS\n",
    "vecs = np.reshape(vecs,(2*nhalos,5,3,3)) # contains DM and MHD (2*nhalos) vecs (3,3) sampled at (5) radii\n",
    "vecsMHD = vecs[::2]\n",
    "vecsDM = vecs[1::2]\n",
    "\n",
    "# indices > haloid, rad_sample"
   ]
  },
  {
   "cell_type": "markdown",
   "metadata": {},
   "source": [
    "# Data Analysis\n",
    "## Definition of sphericity-asphericity\n",
    "\n",
    "Given the visual representation of an ellipsoid shape in the Triaxiality plane (**q** Vs **s**), where the sphere is represented by the point (1,1), we can define the ashpericity (or sphericity) as the distance between the point definining the ellipsoid shape (q,s) and that point (1,1). Then The Asphericity would be given by:\n",
    "\n",
    "$$ Asph1 = \\sqrt{(1-q)^2 + (1-s)^2} $$\n",
    "\n",
    "And in an simmilar way, the Sphericity:\n",
    "\n",
    "$$ Sph1 = 1-\\sqrt{\\frac{(1-q)^2 + (1-s)^2}{2}} $$\n",
    "\n",
    "given that the maximum distance in this plane would be \\sqrt(2)\n"
   ]
  },
  {
   "cell_type": "code",
   "execution_count": 17,
   "metadata": {
    "collapsed": true
   },
   "outputs": [],
   "source": [
    "# Calculates a measure of asphericity\n",
    "# Returns the 1 minus actual distance from the point in the plane (c/a,b/a) to the point (1,1) in the triaxiality plane\n",
    "# Sphericity is 1 if object is a sphere and bigger than 0 if axial ratios are different from 1\n",
    "def sphericity1(axes):\n",
    "    return 1-(1./np.sqrt(2))*np.sqrt((1-(axes[:,:,1]/axes[:,:,0]))**2 + (1-(axes[:,:,2]/axes[:,:,0]))**2)    "
   ]
  },
  {
   "cell_type": "markdown",
   "metadata": {},
   "source": [
    "## The problem: Data preparation\n",
    "We use  Machine learning to understand the principal variables that linearly(or not) affect the change in shape between DM and MHD simulations. Specificacally, we want to validate if the change in shape from DM to MHD simulations is a simple function of the galaxy characteristics like those in params. We work at the Disk regime where the effect of gas would be maximum.\n",
    "\n",
    "The target variable in this case would be some kind of difference in the sphericities between DM and MHD, being the fit variables the parameters of the MHD simulation, that would be the principal causes for the shape modification.\n",
    "\n",
    "For this reason we try two metrics. A metric for an additive model:\n",
    "\n",
    "$y1 = Sph_{MHD} - Sph_{DM} $\n",
    "\n",
    "And a metric for a multiplicative model:\n",
    "\n",
    "$y2 = log{(Sph_{MHD})} - log{Sph_{DM}} $\n",
    "\n",
    "Note that the use of Sphericity or Asphericity quantities is irrelevant in this treatment.\n",
    "\n",
    "\n",
    "\n",
    "\n"
   ]
  },
  {
   "cell_type": "code",
   "execution_count": 18,
   "metadata": {
    "collapsed": false
   },
   "outputs": [],
   "source": [
    "# Defines Sphericity\n",
    "sph_MHD = sphericity1(axesMHD) #shape: (nhalos,5)\n",
    "sph_DM  = sphericity1(axesDM)\n",
    "\n",
    "##################### The Target variables ######################\n",
    "\n",
    "# Additive metric \n",
    "y1 = (sph_MHD - sph_DM)[:,-1] # 0 -> only calculated at RDisk\n",
    "# Multiplicative metric \n",
    "y1 = np.log(sph_MHD/sph_DM)[:,-1] # 0 -> only calculated at RDisk\n",
    "\n",
    "#################### The predictive features ####################\n",
    "\n",
    "# In case the change in sphericity is related to the unperturbed state of the halo\n",
    "x1 = axesDM[:,0,1]/axesDM[:,0,0] #b/a DM (q)\n",
    "x2 = axesDM[:,0,2]/axesDM[:,0,0] #c/a DM (s)\n",
    "x1 = 1./x1\n",
    "x2 = 1./x2\n",
    "# The predictive features\n",
    "X = np.array([GasDiskRad,StarDiskRad,np.log10(gas_den),np.log10(star_den),np.log10(BH_den),bar_frac]).T#,x1,x2]).T\n",
    "# Variables to logarithmic scale\n",
    "Xlog = [0,0,1,1,1,0,0,0,0]\n",
    "# Names oof variables\n",
    "Xnames = ['Gas Radius','StarDisk Radius','Gas density','Star density','BH density',\n",
    "                'Baryonic fraction']#,'q','s']\n",
    "\n",
    "#################### Outliers #########################\n",
    "# We can manually eliminate outliers from our fit\n",
    "# Halos to discard\n",
    "#i_discard = np.where(y<0.1)[0]\n",
    "i_discard = [10]\n",
    "badX = X[i_discard]\n",
    "bady = y1[i_discard]\n",
    "X = np.delete(X,i_discard,axis=0)\n",
    "y1 = np.delete(y1,i_discard)\n",
    "\n",
    "\n",
    "################### Variable normalization ##############\n",
    "\n",
    "# Mean values\n",
    "meanX = np.mean(X, axis = 0)\n",
    "# STD but with the signs of the coeficients\n",
    "sigmaX = np.std(X, axis = 0)\n",
    "\n",
    "X = ((X-meanX)/sigmaX)"
   ]
  },
  {
   "cell_type": "markdown",
   "metadata": {},
   "source": [
    "## LASSO fit"
   ]
  },
  {
   "cell_type": "code",
   "execution_count": 19,
   "metadata": {
    "collapsed": false
   },
   "outputs": [],
   "source": [
    "from sklearn.linear_model import Lasso\n",
    "# LassoCV\n",
    "lasso = Lasso(alpha =0.01)\n",
    "lasso.fit(X,y1)\n",
    "# Predicted by LASSO\n",
    "y_data_lasso = lasso.predict(X) "
   ]
  },
  {
   "cell_type": "markdown",
   "metadata": {},
   "source": [
    "### LASSO results"
   ]
  },
  {
   "cell_type": "code",
   "execution_count": 20,
   "metadata": {
    "collapsed": false,
    "scrolled": true
   },
   "outputs": [
    {
     "name": "stdout",
     "output_type": "stream",
     "text": [
      "Gas Radius\n",
      "\n",
      "\n",
      "Slope -0.0\n",
      "Feature correlation -0.00758549560832 \n",
      "\n"
     ]
    },
    {
     "data": {
      "image/png": "[encoded data removed]",
      "text/plain": [
       "<matplotlib.figure.Figure at 0x7f9b6c52f8d0>"
      ]
     },
     "metadata": {},
     "output_type": "display_data"
    },
    {
     "name": "stdout",
     "output_type": "stream",
     "text": [
      "StarDisk Radius\n",
      "\n",
      "\n",
      "Slope -0.0217094900232\n",
      "Feature correlation -0.192907184548 \n",
      "\n"
     ]
    },
    {
     "data": {
      "image/png": "[encoded data removed]",
      "text/plain": [
       "<matplotlib.figure.Figure at 0x7f9b6d36a710>"
      ]
     },
     "metadata": {},
     "output_type": "display_data"
    },
    {
     "name": "stdout",
     "output_type": "stream",
     "text": [
      "Gas density\n",
      "\n",
      "\n",
      "Slope 0.00774391824264\n",
      "Feature correlation 0.0602439982498 \n",
      "\n"
     ]
    },
    {
     "data": {
      "image/png": "[encoded data removed]",
      "text/plain": [
       "<matplotlib.figure.Figure at 0x7f9b6d4799e8>"
      ]
     },
     "metadata": {},
     "output_type": "display_data"
    },
    {
     "name": "stdout",
     "output_type": "stream",
     "text": [
      "Star density\n",
      "\n",
      "\n",
      "Slope -0.0\n",
      "Feature correlation 0.0106932882615 \n",
      "\n"
     ]
    },
    {
     "data": {
      "image/png": "[encoded data removed]",
      "text/plain": [
       "<matplotlib.figure.Figure at 0x7f9b6c543e10>"
      ]
     },
     "metadata": {},
     "output_type": "display_data"
    },
    {
     "name": "stdout",
     "output_type": "stream",
     "text": [
      "BH density\n",
      "\n",
      "\n",
      "Slope 0.0\n",
      "Feature correlation 0.10927617699 \n",
      "\n"
     ]
    },
    {
     "data": {
      "image/png": "[encoded data removed]",
      "text/plain": [
       "<matplotlib.figure.Figure at 0x7f9b6d46a898>"
      ]
     },
     "metadata": {},
     "output_type": "display_data"
    },
    {
     "name": "stdout",
     "output_type": "stream",
     "text": [
      "Baryonic fraction\n",
      "\n",
      "\n",
      "Slope 0.0\n",
      "Feature correlation 0.157739809266 \n",
      "\n"
     ]
    },
    {
     "data": {
      "image/png": "[encoded data removed]",
      "text/plain": [
       "<matplotlib.figure.Figure at 0x7f9b6d577dd8>"
      ]
     },
     "metadata": {},
     "output_type": "display_data"
    }
   ],
   "source": [
    "# Linspaces for each variable\n",
    "linspcX = np.array([np.linspace(min(x)-0.01,max(x)+0.01,100) for x in X.T])\n",
    "\n",
    "for i in range(len(Xnames)):\n",
    "    # Names and slopes\n",
    "    print( Xnames[i])\n",
    "    print( '\\n')\n",
    "    print( 'Slope',lasso.coef_[i])\n",
    "    #print( 'Feature Importance',rf.feature_importances_[i])\n",
    "    print( 'Feature correlation',np.corrcoef(X[:,i],y1)[0,1],'\\n')\n",
    "\n",
    "    # Plot dataset projection over variable \n",
    "    plt.plot(X[:,i],y1,'bo')\n",
    "    plt.plot(badX[:,i],bady,'ro')\n",
    "\n",
    "    # Given the multivariate model we can only use the mean in each other variable\n",
    "    # All other variables mean are 0 given the normalization\n",
    "    X_proj_mean = np.zeros((100,len(meanX)))\n",
    "    X_proj_mean[:,i] = linspcX[i] # Except for the variable to study\n",
    "    \n",
    "    # Fit \n",
    "    yproj_lasso = lasso.predict(X_proj_mean)\n",
    "     \n",
    "    plt.plot(linspcX[i],yproj_lasso,'r',linewidth=2,label='Lasso') # Mean\n",
    "    plt.plot(X[:,i],y_data_lasso,'m^',linewidth=2,label='Lasso_data') # Mean\n",
    "\n",
    "    plt.legend(loc=0)\n",
    "\n",
    "    plt.xlabel(Xnames[i])\n",
    "    plt.show()\n",
    "    plt.close()"
   ]
  },
  {
   "cell_type": "markdown",
   "metadata": {},
   "source": [
    "## Random Forest\n",
    "We use Random forest binary classifier. We declare the groups according to percentiles so that classes are balanced by construction. Random Forest naturally gives variable importances"
   ]
  },
  {
   "cell_type": "code",
   "execution_count": 21,
   "metadata": {
    "collapsed": false
   },
   "outputs": [
    {
     "data": {
      "text/plain": [
       "RandomForestClassifier(bootstrap=True, class_weight=None, criterion='gini',\n",
       "            max_depth=None, max_features='auto', max_leaf_nodes=None,\n",
       "            min_impurity_split=1e-07, min_samples_leaf=1,\n",
       "            min_samples_split=2, min_weight_fraction_leaf=0.0,\n",
       "            n_estimators=100, n_jobs=1, oob_score=False, random_state=None,\n",
       "            verbose=0, warm_start=False)"
      ]
     },
     "execution_count": 21,
     "metadata": {},
     "output_type": "execute_result"
    }
   ],
   "source": [
    "# Labels for random forest\n",
    "mid1 = np.percentile(y1,50)\n",
    "#mid2 = np.percentile(y,66)\n",
    "labels = (y1>mid1).astype(np.int)\n",
    "\n",
    "from sklearn.ensemble import RandomForestClassifier\n",
    "\n",
    "#random forest\n",
    "rf = RandomForestClassifier(n_estimators=100)\n",
    "\n",
    "# fit\n",
    "rf.fit(X,labels)"
   ]
  },
  {
   "cell_type": "markdown",
   "metadata": {},
   "source": [
    "## Random Forest Results"
   ]
  },
  {
   "cell_type": "code",
   "execution_count": 22,
   "metadata": {
    "collapsed": false
   },
   "outputs": [
    {
     "name": "stdout",
     "output_type": "stream",
     "text": [
      "Gas Radius\n",
      "\n",
      "Slope -0.0\n",
      "Feature Importance 0.200151456548\n",
      "Feature correlation -0.00758549560832 \n",
      "\n",
      "StarDisk Radius\n",
      "\n",
      "Slope -0.0217094900232\n",
      "Feature Importance 0.140945040581\n",
      "Feature correlation -0.192907184548 \n",
      "\n",
      "Gas density\n",
      "\n",
      "Slope 0.00774391824264\n",
      "Feature Importance 0.2073028052\n",
      "Feature correlation 0.0602439982498 \n",
      "\n",
      "Star density\n",
      "\n",
      "Slope -0.0\n",
      "Feature Importance 0.140465928432\n",
      "Feature correlation 0.0106932882615 \n",
      "\n",
      "BH density\n",
      "\n",
      "Slope 0.0\n",
      "Feature Importance 0.12245982397\n",
      "Feature correlation 0.10927617699 \n",
      "\n",
      "Baryonic fraction\n",
      "\n",
      "Slope 0.0\n",
      "Feature Importance 0.188674945267\n",
      "Feature correlation 0.157739809266 \n",
      "\n"
     ]
    }
   ],
   "source": [
    "for i in range(len(Xnames)):\n",
    "    # Names and slopes\n",
    "    print( Xnames[i])\n",
    "    print( '')\n",
    "    print( 'Slope',lasso.coef_[i])\n",
    "    print( 'Feature Importance',rf.feature_importances_[i])\n",
    "    print( 'Feature correlation',np.corrcoef(X[:,i],y1)[0,1],'\\n')"
   ]
  },
  {
   "cell_type": "markdown",
   "metadata": {},
   "source": [
    "## EMCEE\n",
    "We use EMCEE to verify error intervals for a linear model to see if the output fit and the observed tendencies are conclusive and to clarify correlations\n",
    "\n",
    "### Definitions"
   ]
  },
  {
   "cell_type": "code",
   "execution_count": 23,
   "metadata": {
    "collapsed": true
   },
   "outputs": [],
   "source": [
    "# Basic imports\n",
    "import emcee\n",
    "\n",
    "##########################\n",
    "##### SETUP FUNCTIONS ####\n",
    "##########################\n",
    "\n",
    "# The model to fit parameters\n",
    "# Asume linear model and power law for baryionic fraction\n",
    "# Encode arguments of this function in theta\n",
    "def model(theta,X):\n",
    "\n",
    "    theta = np.array(theta)\n",
    "    #print np.multiply(theta[:-1][:,np.newaxis],X)\n",
    "    val = np.sum(np.multiply(theta[:-1][:,np.newaxis],X),axis=0)+ theta[-1]\n",
    "    #print val\n",
    "    return val\n",
    "\n",
    "# Define the ln of the likelihood.\n",
    "# Just assume exponential of the squared error\n",
    "def lnlike(theta, X, y, yerr=1):\n",
    "\n",
    "    y_mod = model(theta,X)\n",
    "    inv_sigma2 = 1.0/(yerr**2) #+ model**2*np.exp(2*lnf))      -> This is more sophisticated\n",
    "    return -0.5*(np.sum((y-y_mod)**2*inv_sigma2 - np.log(inv_sigma2)))\n",
    "\n",
    "# The log of the prior probability\n",
    "# All variables are free to choose (mainly slopes)\n",
    "def lnprior(theta,X):\n",
    "\n",
    "    #a0,a1,c = theta\n",
    "    if False : # keep power term positive\n",
    "        return -np.inf\n",
    "    return 0 # no restrictions\n",
    "\n",
    "# The log of the final probability of the model    \n",
    "def lnprob(theta, X, y, yerr=1):\n",
    "    lp = lnprior(theta,X)\n",
    "    if not np.isfinite(lp): # Not needed but anyway jic\n",
    "        return -np.inf\n",
    "    return lp + lnlike(theta, X, y, yerr)\n"
   ]
  },
  {
   "cell_type": "markdown",
   "metadata": {},
   "source": [
    "## The maximum likelihood"
   ]
  },
  {
   "cell_type": "code",
   "execution_count": 30,
   "metadata": {
    "collapsed": false
   },
   "outputs": [
    {
     "name": "stdout",
     "output_type": "stream",
     "text": [
      "29 29\n"
     ]
    },
    {
     "data": {
      "image/png": "[encoded data removed]",
      "text/plain": [
       "<matplotlib.figure.Figure at 0x7f9b6d513eb8>"
      ]
     },
     "metadata": {},
     "output_type": "display_data"
    },
    {
     "data": {
      "image/png": "[encoded data removed]",
      "text/plain": [
       "<matplotlib.figure.Figure at 0x7f9b6d4feef0>"
      ]
     },
     "metadata": {},
     "output_type": "display_data"
    },
    {
     "data": {
      "image/png": "[encoded data removed]",
      "text/plain": [
       "<matplotlib.figure.Figure at 0x7f9b6d46a4e0>"
      ]
     },
     "metadata": {},
     "output_type": "display_data"
    },
    {
     "data": {
      "image/png": "[encoded data removed]",
      "text/plain": [
       "<matplotlib.figure.Figure at 0x7f9b6d38d6a0>"
      ]
     },
     "metadata": {},
     "output_type": "display_data"
    },
    {
     "data": {
      "image/png": "[encoded data removed]",
      "text/plain": [
       "<matplotlib.figure.Figure at 0x7f9b6d4795f8>"
      ]
     },
     "metadata": {},
     "output_type": "display_data"
    },
    {
     "data": {
      "image/png": "[encoded data removed]",
      "text/plain": [
       "<matplotlib.figure.Figure at 0x7f9b6f6c4a90>"
      ]
     },
     "metadata": {},
     "output_type": "display_data"
    }
   ],
   "source": [
    "#print X.shape\n",
    "X = X.T # To facilitate variable handling\n",
    "\n",
    "# Now we find the maximum likelihood\n",
    "import scipy.optimize as op\n",
    "nll = lambda x,*t: model([t[i] for i in range(len(X)+1)],x)\n",
    "print(len(X.T),len(y1))\n",
    "\n",
    "popt,pcov = op.curve_fit(nll,X,y1,p0=0*np.ones(len(X)+1))\n",
    "\n",
    "#scatter3d(X[-2], X[-1], y, y)    \n",
    "yopt = model(popt,X)\n",
    "xlabs = Xnames\n",
    "for i in range(len(X)):\n",
    "    plt.plot(X[i],y1,'bo')\n",
    "    plt.plot(X[i],yopt,'ro')\n",
    "    #plt.ylabel(r'$ \\frac{a}{c}$')\n",
    "    plt.ylabel('Delta Sph')\n",
    "    plt.xlabel(xlabs[i])       \n",
    "    #plt.savefig('./pics/Baryons_plots/'+xlabs[i]+'.png')\n",
    "    plt.show()\n",
    "    plt.close()\n"
   ]
  },
  {
   "cell_type": "markdown",
   "metadata": {},
   "source": [
    "## The Random Walkers"
   ]
  },
  {
   "cell_type": "code",
   "execution_count": 32,
   "metadata": {
    "collapsed": false
   },
   "outputs": [],
   "source": [
    "# We initialize some walkers around the maximum likelihood\n",
    "ndim, nwalkers = len(X)+1, 100\n",
    "pos = [popt + (1e-6)*(1-2*np.random.randn(ndim)) for i in range(nwalkers)]\n",
    "\n",
    "# Set up the sampler\n",
    "sampler = emcee.EnsembleSampler(nwalkers, ndim, lnprob, args=(X, y1, 1.0))\n",
    "\n",
    "# Run nwalks \n",
    "sampler.run_mcmc(pos, 1000)\n",
    "\n",
    "# Retrieve chains after stabilization\n",
    "samples = sampler.chain[:, 50:, :].reshape((-1, ndim))"
   ]
  },
  {
   "cell_type": "markdown",
   "metadata": {},
   "source": [
    "## Results"
   ]
  },
  {
   "cell_type": "code",
   "execution_count": 34,
   "metadata": {
    "collapsed": false
   },
   "outputs": [
    {
     "ename": "ImportError",
     "evalue": "No module named 'corner'",
     "output_type": "error",
     "traceback": [
      "\u001b[0;31m---------------------------------------------------------------------------\u001b[0m",
      "\u001b[0;31mImportError\u001b[0m                               Traceback (most recent call last)",
      "\u001b[0;32m<ipython-input-34-642a064ae88b>\u001b[0m in \u001b[0;36m<module>\u001b[0;34m()\u001b[0m\n\u001b[1;32m      1\u001b[0m \u001b[0;31m#print result\u001b[0m\u001b[0;34m\u001b[0m\u001b[0;34m\u001b[0m\u001b[0m\n\u001b[0;32m----> 2\u001b[0;31m \u001b[0;32mimport\u001b[0m \u001b[0mcorner\u001b[0m\u001b[0;34m\u001b[0m\u001b[0m\n\u001b[0m\u001b[1;32m      3\u001b[0m \u001b[0mfig\u001b[0m \u001b[0;34m=\u001b[0m \u001b[0mcorner\u001b[0m\u001b[0;34m.\u001b[0m\u001b[0mcorner\u001b[0m\u001b[0;34m(\u001b[0m\u001b[0msamples\u001b[0m\u001b[0;34m,\u001b[0m \u001b[0mlabels\u001b[0m\u001b[0;34m=\u001b[0m \u001b[0mX_names\u001b[0m\u001b[0;34m+\u001b[0m\u001b[0;34m[\u001b[0m\u001b[0;34m'$Intercept$'\u001b[0m\u001b[0;34m]\u001b[0m\u001b[0;34m,\u001b[0m \u001b[0mtruths\u001b[0m \u001b[0;34m=\u001b[0m \u001b[0mpopt\u001b[0m\u001b[0;34m)\u001b[0m\u001b[0;34m\u001b[0m\u001b[0m\n\u001b[1;32m      4\u001b[0m \u001b[0;34m\u001b[0m\u001b[0m\n\u001b[1;32m      5\u001b[0m \u001b[0mresults\u001b[0m \u001b[0;34m=\u001b[0m \u001b[0mmap\u001b[0m\u001b[0;34m(\u001b[0m\u001b[0;32mlambda\u001b[0m \u001b[0mv\u001b[0m\u001b[0;34m:\u001b[0m \u001b[0;34m(\u001b[0m\u001b[0mv\u001b[0m\u001b[0;34m[\u001b[0m\u001b[0;36m1\u001b[0m\u001b[0;34m]\u001b[0m\u001b[0;34m,\u001b[0m \u001b[0mv\u001b[0m\u001b[0;34m[\u001b[0m\u001b[0;36m2\u001b[0m\u001b[0;34m]\u001b[0m\u001b[0;34m-\u001b[0m\u001b[0mv\u001b[0m\u001b[0;34m[\u001b[0m\u001b[0;36m1\u001b[0m\u001b[0;34m]\u001b[0m\u001b[0;34m,\u001b[0m \u001b[0mv\u001b[0m\u001b[0;34m[\u001b[0m\u001b[0;36m1\u001b[0m\u001b[0;34m]\u001b[0m\u001b[0;34m-\u001b[0m\u001b[0mv\u001b[0m\u001b[0;34m[\u001b[0m\u001b[0;36m0\u001b[0m\u001b[0;34m]\u001b[0m\u001b[0;34m)\u001b[0m\u001b[0;34m,\u001b[0m\u001b[0mzip\u001b[0m\u001b[0;34m(\u001b[0m\u001b[0;34m*\u001b[0m\u001b[0mnp\u001b[0m\u001b[0;34m.\u001b[0m\u001b[0mpercentile\u001b[0m\u001b[0;34m(\u001b[0m\u001b[0msamples\u001b[0m\u001b[0;34m,\u001b[0m \u001b[0;34m[\u001b[0m\u001b[0;36m16\u001b[0m\u001b[0;34m,\u001b[0m \u001b[0;36m50\u001b[0m\u001b[0;34m,\u001b[0m \u001b[0;36m84\u001b[0m\u001b[0;34m]\u001b[0m\u001b[0;34m,\u001b[0m\u001b[0maxis\u001b[0m\u001b[0;34m=\u001b[0m\u001b[0;36m0\u001b[0m\u001b[0;34m)\u001b[0m\u001b[0;34m)\u001b[0m\u001b[0;34m)\u001b[0m\u001b[0;34m\u001b[0m\u001b[0m\n",
      "\u001b[0;31mImportError\u001b[0m: No module named 'corner'"
     ]
    }
   ],
   "source": [
    "#print result\n",
    "import corner    \n",
    "fig = corner.corner(samples, labels= X_names+['$Intercept$'], truths = popt)\n",
    "\n",
    "results = map(lambda v: (v[1], v[2]-v[1], v[1]-v[0]),zip(*np.percentile(samples, [16, 50, 84],axis=0)))\n",
    "\n",
    "for el in zip(results,X_names+['Intercept']):\n",
    "    print(el)\n"
   ]
  },
  {
   "cell_type": "code",
   "execution_count": null,
   "metadata": {
    "collapsed": true
   },
   "outputs": [],
   "source": []
  }
 ],
 "metadata": {
  "kernelspec": {
   "display_name": "Python 3",
   "language": "python",
   "name": "python3"
  },
  "language_info": {
   "codemirror_mode": {
    "name": "ipython",
    "version": 3
   },
   "file_extension": ".py",
   "mimetype": "text/x-python",
   "name": "python",
   "nbconvert_exporter": "python",
   "pygments_lexer": "ipython3",
   "version": "3.5.2"
  }
 },
 "nbformat": 4,
 "nbformat_minor": 2
}
