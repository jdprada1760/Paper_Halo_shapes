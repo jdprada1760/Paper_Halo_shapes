{
 "cells": [
  {
   "cell_type": "code",
   "execution_count": 3,
   "metadata": {
    "collapsed": true,
    "deletable": true,
    "editable": true
   },
   "outputs": [],
   "source": [
    "import matplotlib\n",
    "import sys\n",
    "import gc\n",
    "import numpy as np\n",
    "import matplotlib.pyplot as plt\n",
    "from matplotlib.backends.backend_pdf import PdfPages\n",
    "from matplotlib.ticker import FormatStrFormatter\n",
    "\n",
    "# Para manejar los archivos y automatizar la lectura en directorios\n",
    "import csv\n",
    "import os\n",
    "# Fontsize\n",
    "matplotlib.rc('xtick', labelsize=14) \n",
    "matplotlib.rc('ytick', labelsize=14) \n",
    "# Latex font\n",
    "matplotlib.rcParams['mathtext.fontset'] = 'stix'\n",
    "matplotlib.rcParams['font.family'] = 'STIXGeneral'\n",
    "%matplotlib inline"
   ]
  },
  {
   "cell_type": "markdown",
   "metadata": {
    "deletable": true,
    "editable": true
   },
   "source": [
    "# Nombres de archivo, paths y definiciones"
   ]
  },
  {
   "cell_type": "code",
   "execution_count": 4,
   "metadata": {
    "collapsed": true,
    "deletable": true,
    "editable": true
   },
   "outputs": [],
   "source": [
    "# SOME DEFINITIONS\n",
    "# Level of the simulation ('_' for filename format)\n",
    "'''lvl = 'Level 4/level4_'\n",
    "# number of halos\n",
    "nhalos = 30 '''\n",
    "\n",
    "# level of the simulation\n",
    "lvl = 'Level 3/level3_'\n",
    "# number of halos\n",
    "nhalos = 6 \n",
    "\n",
    "# FOLDER CONTAINING ALL FILES\n",
    "folder = '../Data/Halo_General/'\n",
    "\n",
    "# FILENAMES\n",
    "# Contains parameters of the disk (MHD)\n",
    "fn_params = lvl+'params'+'.csv'\n",
    "# Triaxial eigensystem different radii (MHD & DM) using volumetric (mean) density: Allgood et al.\n",
    "fn_axes = lvl+'axes'+'.csv' # Axes = axial ratios (sqrt of eigenvals)\n",
    "fn_vecs = lvl+'vecs'+'.csv' # Vecs = principal axes directions"
   ]
  },
  {
   "cell_type": "markdown",
   "metadata": {
    "deletable": true,
    "editable": true
   },
   "source": [
    "# Definicion de funciones"
   ]
  },
  {
   "cell_type": "code",
   "execution_count": 16,
   "metadata": {
    "collapsed": true,
    "deletable": true,
    "editable": true
   },
   "outputs": [],
   "source": [
    "# Reads file in \"path/filename\"\n",
    "# Returns data as a numpy array\n",
    "# Returns filenames as a list of strings\n",
    "# Returns headers as an array of strings\n",
    "\n",
    "def read_csv(filename,skip_header=1):\n",
    "\n",
    "    # Removes quotations from file (little writing error) \n",
    "    os.system('sed -i \\'s/\"//g\\' '+filename) \n",
    "    \n",
    "    # FILENAMES!\n",
    "    headers = []\n",
    "    with open( filename , 'r') as myfile:\n",
    "        rd = csv.reader(myfile)\n",
    "        headers = next(rd) # gets only first line \n",
    "    \n",
    "    data = np.genfromtxt(filename, delimiter = ',', skip_header=skip_header, dtype=float )\n",
    "    \n",
    "    return headers,data\n"
   ]
  },
  {
   "cell_type": "markdown",
   "metadata": {
    "deletable": true,
    "editable": true
   },
   "source": [
    "# Obteniendo los datos"
   ]
  },
  {
   "cell_type": "code",
   "execution_count": 17,
   "metadata": {
    "collapsed": false,
    "deletable": true,
    "editable": true
   },
   "outputs": [
    {
     "name": "stdout",
     "output_type": "stream",
     "text": [
      "['a12', 'b12', 'c12', 'a25', 'b25', 'c25', 'a50', 'b50', 'c50', 'a1', 'b1', 'c1', 'aDisk', 'bDisk', 'cDisk']\n"
     ]
    }
   ],
   "source": [
    "# Obtiene el contenido del archivo de semiejes\n",
    "headers,axes = read_csv(folder+fn_axes)\n",
    "print(headers)\n",
    "# Obtiene el contenido del archivo de vctores propios asociados\n",
    "headers,vecs = read_csv(folder+fn_vecs)"
   ]
  },
  {
   "cell_type": "markdown",
   "metadata": {
    "deletable": true,
    "editable": true
   },
   "source": [
    "### Formato de archivo\n",
    "\\n\n",
    "<font size=3>\n",
    "En el archivo de semiejes, la primera letra es el semieje correspondiente $a>b>c$\n",
    "Los caracteres consecutivos indican el radio en el que fue caracterizada la forma:\n",
    "</font>\n",
    "\n",
    "*  $12 \\equiv 12.5\\%\\ R_{vir}$ \n",
    "*  $25 \\equiv 25\\%\\ R_{vir}$ \n",
    "*  $50 \\equiv 50\\%\\ R_{vir}$ \n",
    "*  $Disk \\equiv Sampleado\\ en\\ el\\ disco\\ estelar$ \n",
    "\n",
    "\\\n",
    "<font size=3>\n",
    "Adicionalmente, en terminos de filas, el archivo muestra los ejes de los halos MHD y DM intercalados de la siguiente manera:\n",
    "</font>\n",
    "\n",
    "*  --------Header------------\n",
    "*  ----Info Halo1 MHD----\n",
    "*  ----Info Halo1  DM------\n",
    "*  ----Info Halo2 MHD----\n",
    "*  ----Info Halo2  DM------\n",
    "*        -------------...--------------\n",
    "\n",
    "\\\n",
    "\n",
    "<font size=3>\n",
    "Para el archivo de vectores de ejes principales el formato sigue la misma logica\n",
    "</font>\n"
   ]
  },
  {
   "cell_type": "code",
   "execution_count": 18,
   "metadata": {
    "collapsed": false,
    "deletable": true,
    "editable": true
   },
   "outputs": [],
   "source": [
    "# Dado el formato del archivo explicado anteriormente\n",
    "# Se obtienen los resultados en terminos de arrays\n",
    "\n",
    "# RADII SAMPLED\n",
    "rad_sampl = ['12.5%Rvir'\n",
    "            ,'25%Rvir'\n",
    "            ,'50%Rvir'\n",
    "            ,'100%Rvir'\n",
    "            ,'Stellar Disk']\n",
    "\n",
    "# AXES\n",
    "axes = np.reshape(axes,(2*nhalos,5,3)) # contains DM and MHD (2*nhalos) axes (3) sampled at (5) radii\n",
    "axesMHD = axes[::2] #organized halo1MHD,halo1DM,halo2MHD,halo2DM....\n",
    "axesDM = axes[1::2]\n",
    "\n",
    "# indices > haloid, rad_sampled, axis id\n",
    "\n",
    "# VECS\n",
    "vecs = np.reshape(vecs,(2*nhalos,5,3,3)) # contains DM and MHD (2*nhalos) vecs (3,3) sampled at (5) radii\n",
    "vecsMHD = vecs[::2]\n",
    "vecsDM = vecs[1::2]\n",
    "\n",
    "# indices > haloid, rad_sampled, axis id, vector component"
   ]
  },
  {
   "cell_type": "markdown",
   "metadata": {
    "deletable": true,
    "editable": true
   },
   "source": [
    "# Eigenvecs lvl 3"
   ]
  },
  {
   "cell_type": "code",
   "execution_count": 19,
   "metadata": {
    "collapsed": false,
    "deletable": true,
    "editable": true
   },
   "outputs": [],
   "source": [
    "# level of the simulation\n",
    "lvl = 'level3_'\n",
    "# number of halos\n",
    "nhalos = 6\n",
    "# Measurements near rvir    \n",
    "vecs_vir_MHD = np.loadtxt(\"../Data/Halo_Detail/\"+lvl+\"MHD/\"+\"Eigenvecs_rvir_1e2rvir.csv\", delimiter = ',')[:,:9]\n",
    "vecs_vir_MHD = vecs_vir_MHD.reshape(6,3,3)\n",
    "vecs_vir_DM = np.loadtxt(\"../Data/Halo_Detail/\"+lvl+\"DM/\"+\"Eigenvecs_rvir_1e2rvir.csv\", delimiter = ',')[:,:9]\n",
    "vecs_vir_DM = vecs_vir_DM.reshape(6,3,3)\n",
    "\n",
    "# Add New info at position 4\n",
    "vecsMHD = np.insert(vecsMHD,4,vecs_vir_MHD,axis=1)\n",
    "vecsDM = np.insert(vecsDM,4,vecs_vir_DM,axis=1)\n"
   ]
  },
  {
   "cell_type": "markdown",
   "metadata": {},
   "source": [
    "### Formato de archivo\n",
    "\\n\n",
    "<font size=3>\n",
    "Despues de anadir la infor en R200, los datos quedan de la siguiente manera\n",
    "</font>\n",
    "\n",
    "*  $12 \\equiv 12.5\\%\\ R_{vir}500$ \n",
    "*  $25 \\equiv 25\\%\\ R_{vir}500$ \n",
    "*  $50 \\equiv 50\\%\\ R_{vir}500$ \n",
    "*  $100 \\equiv 100\\%\\ R_{vir}500$\n",
    "*  $100 \\equiv 100\\%\\ R_{vir}200$\n",
    "*  $Disk \\equiv Sampleado\\ en\\ el\\ disco\\ estelar$ "
   ]
  },
  {
   "cell_type": "markdown",
   "metadata": {
    "deletable": true,
    "editable": true
   },
   "source": [
    "# Estudio de alineamiento \n",
    "## DM at 100%Rvir Principal axis Vs Star Disk Principal axis"
   ]
  },
  {
   "cell_type": "code",
   "execution_count": 20,
   "metadata": {
    "collapsed": false,
    "deletable": true,
    "editable": true
   },
   "outputs": [],
   "source": [
    "# Obtiene los vectores del eje principal (0) \n",
    "# sampleados en 100Rvir (-2)\n",
    "vecs_100Rvir = vecsMHD[:,-2,0,:]\n",
    "vecs_inner = vecsMHD[:,0,0,:]\n",
    "vecs_stardisk = vecsMHD[:,-1,0,:]\n",
    "# Producto punto para cada halo\n",
    "dot_pr = np.abs(np.diag(vecs_100Rvir@vecs_stardisk.T))"
   ]
  },
  {
   "cell_type": "code",
   "execution_count": 21,
   "metadata": {
    "collapsed": false,
    "deletable": true,
    "editable": true
   },
   "outputs": [
    {
     "data": {
      "image/png": "[encoded data removed]",
      "text/plain": [
       "<matplotlib.figure.Figure at 0x7f31fe7061d0>"
      ]
     },
     "metadata": {},
     "output_type": "display_data"
    }
   ],
   "source": [
    "# Histograma\n",
    "n, bins, patches = plt.hist(dot_pr,normed=True, histtype = 'step')\n",
    "plt.xlim(0,1)\n",
    "plt.show()"
   ]
  },
  {
   "cell_type": "code",
   "execution_count": 23,
   "metadata": {
    "collapsed": false,
    "deletable": true,
    "editable": true
   },
   "outputs": [
    {
     "data": {
      "image/png": "[encoded data removed]",
      "text/plain": [
       "<matplotlib.figure.Figure at 0x7f31fe686198>"
      ]
     },
     "metadata": {},
     "output_type": "display_data"
    }
   ],
   "source": [
    "# Producto punto para cada halo\n",
    "dot_pr_8 = np.abs(np.diag(vecsMHD[:,0,0,:]@vecs_stardisk.T))\n",
    "dot_pr_4 = np.abs(np.diag(vecsMHD[:,1,0,:]@vecs_stardisk.T))\n",
    "dot_pr_2 = np.abs(np.diag(vecsMHD[:,2,0,:]@vecs_stardisk.T))\n",
    "dot_pr_1 = np.abs(np.diag(vecsMHD[:,3,0,:]@vecs_stardisk.T))\n",
    "dot_pr_1_200 = np.abs(np.diag(vecsMHD[:,4,0,:]@vecs_stardisk.T))\n",
    "\n",
    "plt.figure(figsize=(6,5))\n",
    "# cumulative histogram.\n",
    "#plt.hist(dot_pr, bins=bins, normed=True, histtype='stepfilled', cumulative=1,\n",
    "#        label='Cummulative',alpha = 0.5)\n",
    "plt.plot(np.sort(dot_pr_8), np.linspace(.0, 1.0, len(dot_pr)), \n",
    "         label=r'$R_{\\rm vir}/8$', linewidth=1, color='violet')\n",
    "plt.plot(np.sort(dot_pr_4), np.linspace(.0, 1.0, len(dot_pr)), \n",
    "         label=r'$R_{\\rm vir}/4$', linewidth=2, color='orange')\n",
    "plt.plot(np.sort(dot_pr_2), np.linspace(.0, 1.0, len(dot_pr)), \n",
    "         label=r'$R_{\\rm vir}/2$', linewidth=4, color='red')\n",
    "plt.plot(np.sort(dot_pr_1), np.linspace(.0, 1.0, len(dot_pr)), \n",
    "         label=r'$R_{\\rm vir}$', linewidth=8, color='black')\n",
    "plt.plot(np.sort(dot_pr_1_200), np.linspace(.0, 1.0, len(dot_pr)), \n",
    "         label=r'$R_{\\rm vir}200$', linewidth=9, color='blue')\n",
    "\n",
    "plt.plot([0,1],[0,1],c ='darkred', linewidth=0.1)\n",
    "plt.legend(fontsize=15)\n",
    "plt.ylabel(r'Cumulative Fraction',fontsize = 20)\n",
    "plt.xlabel(r'$\\cos(\\theta)$',fontsize = 20)\n",
    "plt.xlim([0,1])\n",
    "plt.ylim([0,1])\n",
    "plt.savefig('../Document/cumulative_alignment.pdf',bbox_inches='tight')"
   ]
  },
  {
   "cell_type": "code",
   "execution_count": 10,
   "metadata": {
    "collapsed": false,
    "deletable": true,
    "editable": true
   },
   "outputs": [
    {
     "name": "stderr",
     "output_type": "stream",
     "text": [
      "/Users/forero/anaconda3/lib/python3.6/site-packages/matplotlib/axes/_axes.py:6462: UserWarning: The 'normed' kwarg is deprecated, and has been replaced by the 'density' kwarg.\n",
      "  warnings.warn(\"The 'normed' kwarg is deprecated, and has been \"\n"
     ]
    },
    {
     "data": {
      "image/png": "[encoded data removed]",
      "text/plain": [
       "<Figure size 432x288 with 1 Axes>"
      ]
     },
     "metadata": {},
     "output_type": "display_data"
    }
   ],
   "source": [
    "# Producto punto para cada halo\n",
    "dot_pr = np.abs(np.diag(vecs_inner@vecs_stardisk.T))\n",
    "\n",
    "fig,ax = plt.subplots()\n",
    "# cumulative histogram.\n",
    "plt.hist(dot_pr, bins=bins, normed=True, histtype='stepfilled', cumulative=1,\n",
    "        label='Cummulative',alpha = 0.5)\n",
    "plt.plot([0,1],[0,1],c ='darkred')\n",
    "vals = ax.get_yticks()\n",
    "ax.set_yticklabels(['{:,.0%}'.format(x) for x in vals])\n",
    "plt.ylabel(r'$Halos$',fontsize = 20)\n",
    "plt.xlabel(r'$Cos(\\theta)$',fontsize = 20)\n",
    "plt.savefig('../Graphs/Star_Disk_Alignment/Cummulative_Alignment_Histogram_Rvir_16.png',dp1=500)\n",
    "plt.show()"
   ]
  },
  {
   "cell_type": "code",
   "execution_count": null,
   "metadata": {
    "collapsed": true,
    "deletable": true,
    "editable": true
   },
   "outputs": [],
   "source": []
  }
 ],
 "metadata": {
  "kernelspec": {
   "display_name": "Python 3",
   "language": "python",
   "name": "python3"
  },
  "language_info": {
   "codemirror_mode": {
    "name": "ipython",
    "version": 3
   },
   "file_extension": ".py",
   "mimetype": "text/x-python",
   "name": "python",
   "nbconvert_exporter": "python",
   "pygments_lexer": "ipython3",
   "version": "3.5.2"
  }
 },
 "nbformat": 4,
 "nbformat_minor": 2
}
