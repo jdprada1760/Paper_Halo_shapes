{
 "cells": [
  {
   "cell_type": "code",
   "execution_count": 8,
   "metadata": {
    "collapsed": true,
    "deletable": true,
    "editable": true
   },
   "outputs": [],
   "source": [
    "import matplotlib\n",
    "#matplotlib.use('Agg')\n",
    "import sys\n",
    "import gc\n",
    "import numpy as np\n",
    "import matplotlib.pyplot as plt\n",
    "from matplotlib.backends.backend_pdf import PdfPages\n",
    "from matplotlib.ticker import FormatStrFormatter\n",
    "\n",
    "# Para manejar los archivos y automatizar la lectura en directorios\n",
    "import csv\n",
    "import os\n",
    "\n",
    "# Fontsize\n",
    "matplotlib.rc('xtick', labelsize=12) \n",
    "matplotlib.rc('ytick', labelsize=12) \n",
    "# Latex font\n",
    "matplotlib.rcParams['mathtext.fontset'] = 'stix'\n",
    "matplotlib.rcParams['font.family'] = 'STIXGeneral'\n",
    "%matplotlib inline"
   ]
  },
  {
   "cell_type": "markdown",
   "metadata": {
    "deletable": true,
    "editable": true
   },
   "source": [
    "# Nombres de archivo, paths y definiciones"
   ]
  },
  {
   "cell_type": "code",
   "execution_count": 9,
   "metadata": {
    "collapsed": true,
    "deletable": true,
    "editable": true
   },
   "outputs": [],
   "source": [
    "# SOME DEFINITIONS\n",
    "# Level of the simulation ('_' for filename format)\n",
    "lvl = 'Level 4/level4_'\n",
    "# number of halos\n",
    "nhalos = 30 \n",
    "\n",
    "'''# level of the simulation\n",
    "lvl = 'Level 3/level3_'\n",
    "# number of halos\n",
    "nhalos = 6''' \n",
    "\n",
    "# FOLDER CONTAINING ALL FILES\n",
    "folder = '../Data/Halo_General/'\n",
    "\n",
    "# FILENAMES\n",
    "# Triaxial eigensystem different radii (MHD & DM) using volumetric (mean) density: Allgood et al.\n",
    "fn_axes = lvl+'axes'+'.csv' # Axes = axial ratios (sqrt of eigenvals)\n",
    "# Triaxial system approximation with Isopotential contours\n",
    "fn_axes_pot = lvl+'potential_axes'+'.csv'\n",
    "# Triaxial system approximation with Isodensity contours\n",
    "fn_axes_den = lvl+'density_axes'+'.csv'\n",
    "\n",
    "\n",
    "\n",
    "# Reads file in \"path/filename\"\n",
    "# Returns data as a numpy array\n",
    "# Returns filenames as a list of strings\n",
    "# Returns headers as an array of strings\n",
    "\n",
    "def read_csv(filename,skip_header=1):\n",
    "\n",
    "    # Removes quotations from file (little writing error) \n",
    "    os.system('sed -i \\'s/\"//g\\' '+filename) \n",
    "    \n",
    "    # FILENAMES!\n",
    "    headers = []\n",
    "    with open( filename , 'r') as myfile:\n",
    "        rd = csv.reader(myfile)\n",
    "        headers = next(rd) # gets only first line \n",
    "    \n",
    "    data = np.genfromtxt(filename, delimiter = ',', skip_header=skip_header, dtype=float )\n",
    "    \n",
    "    return headers,data"
   ]
  },
  {
   "cell_type": "markdown",
   "metadata": {
    "deletable": true,
    "editable": true
   },
   "source": [
    "# Obteniendo los datos"
   ]
  },
  {
   "cell_type": "code",
   "execution_count": 10,
   "metadata": {
    "collapsed": false,
    "deletable": true,
    "editable": true
   },
   "outputs": [
    {
     "name": "stdout",
     "output_type": "stream",
     "text": [
      "['a12', 'b12', 'c12', 'a25', 'b25', 'c25', 'a50', 'b50', 'c50', 'a1', 'b1', 'c1', 'aDisk', 'bDisk', 'cDisk']\n",
      "['a12', 'b12', 'c12', 'a25', 'b25', 'c25', 'a50', 'b50', 'c50', 'a1', 'b1', 'c1', 'aDisk', 'bDisk', 'cDisk']\n",
      "['a12', 'b12', 'c12', 'a25', 'b25', 'c25', 'a50', 'b50', 'c50', 'a1', 'b1', 'c1', 'aDisk', 'bDisk', 'cDisk']\n"
     ]
    }
   ],
   "source": [
    "# Obtiene el contenido del archivo de semiejes\n",
    "headers,axes = read_csv(folder+fn_axes)\n",
    "print(headers)\n",
    "headers,axes_den = read_csv(folder+fn_axes_den)\n",
    "print(headers)\n",
    "headers,axes_pot = read_csv(folder+fn_axes_pot)\n",
    "print(headers)"
   ]
  },
  {
   "cell_type": "markdown",
   "metadata": {
    "deletable": true,
    "editable": true
   },
   "source": [
    "# Definiciones\n",
    "Funciones para estimar los ejes "
   ]
  },
  {
   "cell_type": "code",
   "execution_count": 11,
   "metadata": {
    "collapsed": true,
    "deletable": true,
    "editable": true
   },
   "outputs": [],
   "source": [
    "\n",
    "# given axes from isopotential contounrs, returns the estimated axes of isodensity contours.\n",
    "# Simplification from approximation from Binney and Tremaine\n",
    "# Super simplified version\n",
    "# Used in papers https://watermark.silverchair.com/912.pdf?token=AQECAHi208BE49Ooan9kkhW_Ercy7Dm3ZL_9Cf3qfKAc485ysgAAAj4wggI6BgkqhkiG9w0BBwagggIrMIICJwIBADCCAiAGCSqGSIb3DQEHATAeBglghkgBZQMEAS4wEQQMZ7DdyPCl2DEr-0OIAgEQgIIB8cfsK9UUR2QWCInOKuHM_2P_HRUlsApdjO58k-shqoJoUiU8lAhMZIF_BQq7b1jT9A2ysT9RcqPDgAi6XDdu-L9qRPIigP7z2WTI-B5tS4hiGwiKFVeb8BfkPUEXu2HtYMO_OCiVKAm7Ri06KYVa0feHRb13qYmw0E353o7PxthjP--wucJO33hT74OCmMXNGwc656cSYG60hzj37l5SITVBF5zWFhbSHUMwaR89jbDqjFBabuSgrtyFdS-WVvbLHJK3k3_0MQBYxOFntbE0b-2ogTDZmYFmfDm0zz9p-li0gO1TSWal_kXxJj4lomAh-yuFdYZBje7HoEotsrme_PdMWeuY5fF-hiGwpWUv37Yh7OpDDtClMTOB43RRLFklRzuw9UMJjMF2PiScXZNAfepYVyWU4zwOcTGU7_4GDy_nzyksuJtStuBOjl3uYd7Z3mWo6oY0o80lTlE8myuYowE5FWli501HG588pC4pvljknsGDuNVk-O4-n6DnpCRni6980dIERL7uFpqTRHObSiUsCmESX_yq2bavGfttj8TlcY12qYliMMlERfRK5N09QcdCcbKa8FzkhSyW244iJat7Lm96SfE-TI_Mf6d1cQZIgcGQv1JWiAj_fRiVdAQGRja9uACHwAIdqUl2OoJHSSm6\n",
    "# Here the ratios are with respect to the z axis.Sometimes it is bigger than one, and some times it is less than one\n",
    "# We assume z axis is the smaller axis and the halo is approximately axisymmetric (for the formula to be valid)\n",
    "def get_density_axes(axes):\n",
    "    \n",
    "    # Mid and Major axes are treated as the equals\n",
    "    A = axes[0]/axes[2]\n",
    "    B = axes[1]/axes[2]\n",
    "    \n",
    "    # Axis relation from Binney and Tremaine\n",
    "    A = 3*(A-1)+1\n",
    "    B = 3*(B-1)+1\n",
    "    \n",
    "    # We decide to maintain the major axis constant\n",
    "    # this is irrelevant as we are treating axial ratios\n",
    "    axes[1] = axes[0]*B/A\n",
    "    axes[2] = axes[0]/A\n",
    "    \n",
    "    return axes \n",
    "    \n",
    "    \n",
    "# given axes from isopotential contounrs, returns the estimated axes of isodensity contours.\n",
    "# Simplification from approximation from Binney & Tremaine\n",
    "# Simplified version 1\n",
    "# Simplification of higher order given a logarithmic halo potential\n",
    "def get_density_axes2(axes):\n",
    "    A = axes[0]/axes[2]\n",
    "    B = axes[1]/axes[2]\n",
    "    \n",
    "    A = A*np.sqrt(2*A**2-1)\n",
    "    B = B*np.sqrt(2*B**2-1)\n",
    "    \n",
    "    axes[1] = axes[0]*B/A\n",
    "    axes[2] = axes[0]/A\n",
    "    \n",
    "    return axes     \n",
    "    \n",
    "# given axes from isopotential contounrs, returns the estimated axes of isodensity contours.\n",
    "# Simplification from approximation from Binney & Tremaine\n",
    "# Simplified version 2 \n",
    "# Playing with interpretation and approximation of this formula\n",
    "# for oblate halos to triaxial ones\n",
    "\n",
    "def get_density_axes3(axes):\n",
    "    A = axes[1]/axes[0]\n",
    "    B = axes[2]/axes[0]\n",
    "    \n",
    "    A = A*np.sqrt(2*A**2-1)\n",
    "    B = B*np.sqrt(2*B**2-1)\n",
    "    \n",
    "    axes[1] = A*axes[0]\n",
    "    axes[2] = B*axes[0]\n",
    "    \n",
    "    return axes        \n"
   ]
  },
  {
   "cell_type": "markdown",
   "metadata": {
    "deletable": true,
    "editable": true
   },
   "source": [
    "### Formato de archivo\n",
    "\\n\n",
    "<font size=3>\n",
    "En el archivo de semiejes, la primera letra es el semieje correspondiente $a>b>c$\n",
    "Los caracteres consecutivos indican el radio en el que fue caracterizada la forma:\n",
    "</font>\n",
    "\n",
    "*  $12 \\equiv 12.5\\%\\ R_{vir}$ \n",
    "*  $25 \\equiv 25\\%\\ R_{vir}$ \n",
    "*  $50 \\equiv 50\\%\\ R_{vir}$ \n",
    "*  $Disk \\equiv Sampleado\\ en\\ el\\ disco\\ estelar$ \n",
    "\n",
    "\\\n",
    "<font size=3>\n",
    "Adicionalmente, en terminos de filas, el archivo muestra los ejes de los halos MHD y DM intercalados de la siguiente manera:\n",
    "</font>\n",
    "\n",
    "*  --------Header------------\n",
    "*  ----Info Halo1 MHD----\n",
    "*  ----Info Halo1  DM------\n",
    "*  ----Info Halo2 MHD----\n",
    "*  ----Info Halo2  DM------\n",
    "*        -------------...--------------\n",
    "\n",
    "<font size=3>\n",
    "Sin embargo, los otros metodos se calcularon unicamente para los halos DM ya que para estos existe una aproximacion teorica con la cual se puede comparar. Entonces, solo se cuenta con la informacion DM para estos metodos de obtencion de la forma de halos:\n",
    "</font>\n",
    "\n",
    "*  --------Header------------\n",
    "*  ----Info Halo1  MHD------\n",
    "*  ----Info Halo2  MHD------\n",
    "*        -------------...--------------\n",
    "\n",
    "\n",
    "\\\n",
    "\n",
    "<font size=3>\n",
    "Para el archivo de vectores de ejes principales el formato sigue la misma logica\n",
    "</font>\n"
   ]
  },
  {
   "cell_type": "code",
   "execution_count": 33,
   "metadata": {
    "collapsed": false,
    "deletable": true,
    "editable": true
   },
   "outputs": [],
   "source": [
    "# Dado el formato del archivo explicado anteriormente\n",
    "# Se obtienen los resultados en terminos de arrays\n",
    "\n",
    "# RADII SAMPLED\n",
    "rad_sampl = ['12.5%Rvir'\n",
    "            ,'25%Rvir'\n",
    "            ,'50%Rvir'\n",
    "            ,'100%Rvir'\n",
    "            ,'Stellar Disk']\n",
    "\n",
    "# AXES\n",
    "axes = np.reshape(axes,(2*nhalos,5,3)) # contains DM and MHD (2*nhalos) axes (3) sampled at (5) radii\n",
    "axesMHD = axes[::2] #organized halo1MHD,halo1DM,halo2MHD,halo2DM....\n",
    "axesDM = axes[1::2]\n",
    "\n",
    "# Isodensity axes\n",
    "# indices > haloid, rad_sampled, axis id\n",
    "axes_den = np.reshape(axes_den,(nhalos,5,3)) # contains DM and MHD (2*nhalos) axes (3) sampled at (5) radii\n",
    "\n",
    "# Isopotential axes\n",
    "axes_pot = np.reshape(axes_pot,(nhalos,5,3)) # contains DM and MHD (2*nhalos) axes (3) sampled at (5) radii\n"
   ]
  },
  {
   "cell_type": "markdown",
   "metadata": {
    "deletable": true,
    "editable": true
   },
   "source": [
    "# Plots"
   ]
  },
  {
   "cell_type": "code",
   "execution_count": 34,
   "metadata": {
    "collapsed": false,
    "deletable": true,
    "editable": true
   },
   "outputs": [],
   "source": [
    "pos = -2\n",
    "# VOLUMETRIC\n",
    "q = axesMHD[:,pos,1]/axesMHD[:,pos,0] # mid to major axial ratio\n",
    "s = axesMHD[:,pos,2]/axesMHD[:,pos,0] # minor to major axial ratio\n",
    "\n",
    "# ISODENSITY\n",
    "q_den = axes_den[:,pos,1]/axes_den[:,pos,0] # mid to major axial ratio\n",
    "s_den = axes_den[:,pos,2]/axes_den[:,pos,0] # minor to major axial ratio\n",
    "\n",
    "# ISODENSITY\n",
    "q_pot = axes_pot[:,pos,1]/axes_pot[:,pos,0] # mid to major axial ratio\n",
    "s_pot = axes_pot[:,pos,2]/axes_pot[:,pos,0] # minor to major axial ratio\n",
    "\n",
    "\n",
    "# Binney and Tremaine formula\n",
    "## (Q,S) = (f(q,s),g(q,s))\n",
    "# Given it is bivariate in each variable, we got to choose different values for s\n",
    "# isopotential semiaxes\n",
    "s_BT = np.array([0.1,0.25,0.5,0.75,1]*1000)\n",
    "s_BT.sort()\n",
    "q_BT = np.array(5*list(np.linspace(0,1,1000)))\n",
    "axes_BT = np.zeros((3,5000))\n",
    "axes_BT[0] = 1.0\n",
    "\n",
    "# PRINCIPAL AXIS 1\n",
    "axes_BT[1] = q_BT\n",
    "axes_BT[2] = s_BT\n",
    "#print(axes_BT)\n",
    "\n",
    "# The density axes\n",
    "axes_BT_den = get_density_axes(axes_BT.copy())\n",
    "\n",
    "# ISODENSITY\n",
    "q_BT_den = (axes_BT_den[1]/axes_BT_den[0]).reshape((5,1000)) # mid to major axial ratio\n",
    "s_BT_den = (axes_BT_den[2]/axes_BT_den[0]).reshape((5,1000)) # minor to major axial ratio"
   ]
  },
  {
   "cell_type": "markdown",
   "metadata": {
    "deletable": true,
    "editable": true
   },
   "source": [
    "# q potential Vs q Volumetric (MHD)\n",
    "### Comparacion entre los metodos de contornos de isopotencial y el de densidad volumetrico"
   ]
  },
  {
   "cell_type": "code",
   "execution_count": 35,
   "metadata": {
    "collapsed": false,
    "deletable": true,
    "editable": true
   },
   "outputs": [
    {
     "data": {
      "image/png": "[encoded data removed]",
      "text/plain": [
       "<Figure size 432x288 with 1 Axes>"
      ]
     },
     "metadata": {},
     "output_type": "display_data"
    }
   ],
   "source": [
    "# Plots real data collected\n",
    "plt.scatter((q),q_pot,c = 'darkblue',s=10)\n",
    "# Binney and tremaine plots\n",
    "for i in range(0,5):\n",
    "    plt.plot(q_BT_den[i],q_BT[:1000]\n",
    "             ,linewidth = 1\n",
    "             ,label = 's = '+str(s_BT.reshape(5,1000)[i,0]))\n",
    "    \n",
    "    \n",
    "plt.xlim(0.5,1)\n",
    "plt.ylim(0.5,1)\n",
    "    \n",
    "plt.xlabel(r'$q_{\\rm dens}$',fontsize = 20)\n",
    "plt.ylabel(r'$q_{\\rm pot}$',fontsize = 20)\n",
    "plt.legend(loc = 0,fontsize = 12)\n",
    "plt.savefig('../Document/q_pot_vs_q_den.pdf', bbox_inches='tight')"
   ]
  },
  {
   "cell_type": "code",
   "execution_count": 30,
   "metadata": {
    "collapsed": false,
    "deletable": true,
    "editable": true
   },
   "outputs": [],
   "source": [
    "# Recalculate line plots maintaining q constant\n",
    "# Binney and Tremaine formula\n",
    "## (Q,S) = (f(q,s),g(q,s))\n",
    "# Given it is bivariate in each variable, we got to choose different values for s\n",
    "# isopotential semiaxes\n",
    "q_BT = np.array([0.1,0.25,0.5,0.75,1]*1000)\n",
    "q_BT.sort()\n",
    "s_BT = np.array(5*list(np.linspace(0.0001,1,1000)))\n",
    "axes_BT = np.zeros((3,5000))\n",
    "axes_BT[0] = 1.0\n",
    "\n",
    "# PRINCIPAL AXIS 1\n",
    "axes_BT[1] = q_BT\n",
    "axes_BT[2] = s_BT\n",
    "#print(axes_BT)\n",
    "\n",
    "# The density axes\n",
    "axes_BT_den = get_density_axes(axes_BT.copy())\n",
    "# ISODENSITY\n",
    "q_BT_den = (axes_BT_den[1]/axes_BT_den[0]).reshape((5,1000)) # mid to major axial ratio\n",
    "s_BT_den = (axes_BT_den[2]/axes_BT_den[0]).reshape((5,1000)) # minor to major axial ratio"
   ]
  },
  {
   "cell_type": "markdown",
   "metadata": {
    "deletable": true,
    "editable": true
   },
   "source": [
    "# s potential Vs s Volumetric (MHD)\n",
    "### Comparacion entre los metodos de contornos de isopotencial y el de densidad volumetrico"
   ]
  },
  {
   "cell_type": "code",
   "execution_count": 31,
   "metadata": {
    "collapsed": false,
    "deletable": true,
    "editable": true
   },
   "outputs": [
    {
     "data": {
      "image/png": "[encoded data removed]",
      "text/plain": [
       "<Figure size 432x288 with 1 Axes>"
      ]
     },
     "metadata": {},
     "output_type": "display_data"
    }
   ],
   "source": [
    "\n",
    "# Plots real data collected\n",
    "plt.scatter((s),s_pot,c='darkred',s=15)\n",
    "# Binney and tremaine plots\n",
    "for i in range(0,1):\n",
    "    plt.plot(s_BT_den[i],s_BT[:1000],label = q_BT.reshape(5,1000)[i,0],c='darkblue')\n",
    "    \n",
    "    \n",
    "#plt.xlim(0,1)\n",
    "#plt.ylim(0,1)\n",
    "    \n",
    "plt.xlabel(r'$s_{\\rm dens}$',fontsize = 20)\n",
    "plt.ylabel(r'$s_{\\rm pot}$', fontsize = 20)\n",
    "#plt.legend()\n",
    "plt.xlim(0.4,1)\n",
    "plt.ylim(0.4,1)\n",
    "plt.savefig('../Document/s_pot_vs_s_den.pdf',bbox_inches='tight')"
   ]
  },
  {
   "cell_type": "code",
   "execution_count": null,
   "metadata": {},
   "outputs": [],
   "source": [
    "properties = \n"
   ]
  }
 ],
 "metadata": {
  "kernelspec": {
   "display_name": "Python 3",
   "language": "python",
   "name": "python3"
  },
  "language_info": {
   "codemirror_mode": {
    "name": "ipython",
    "version": 3
   },
   "file_extension": ".py",
   "mimetype": "text/x-python",
   "name": "python",
   "nbconvert_exporter": "python",
   "pygments_lexer": "ipython3",
   "version": "3.6.8"
  }
 },
 "nbformat": 4,
 "nbformat_minor": 2
}
