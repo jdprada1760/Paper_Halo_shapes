{
 "cells": [
  {
   "cell_type": "code",
   "execution_count": 6,
   "metadata": {
    "collapsed": true
   },
   "outputs": [],
   "source": [
    "import matplotlib\n",
    "#matplotlib.use('Agg')\n",
    "import sys\n",
    "import gc\n",
    "import numpy as np\n",
    "import matplotlib.pyplot as plt\n",
    "from matplotlib.backends.backend_pdf import PdfPages\n",
    "from matplotlib.ticker import FormatStrFormatter\n",
    "\n",
    "# Para manejar los archivos y automatizar la lectura en directorios\n",
    "import csv\n",
    "import os"
   ]
  },
  {
   "cell_type": "markdown",
   "metadata": {},
   "source": [
    "# Nombres de archivo, paths y definiciones"
   ]
  },
  {
   "cell_type": "code",
   "execution_count": 9,
   "metadata": {
    "collapsed": true
   },
   "outputs": [],
   "source": [
    "# SOME DEFINITIONS\n",
    "# Level of the simulation ('_' for filename format)\n",
    "lvl = 'Level 4/level4_'\n",
    "# number of halos\n",
    "nhalos = 30 \n",
    "\n",
    "'''# level of the simulation\n",
    "lvl = 'Level 3/level3_'\n",
    "# number of halos\n",
    "nhalos = 6''' \n",
    "\n",
    "# FOLDER CONTAINING ALL FILES\n",
    "folder = '../Data/Halo_General/'\n",
    "\n",
    "# FILENAMES\n",
    "# Triaxial eigensystem different radii (MHD & DM) using volumetric (mean) density: Allgood et al.\n",
    "fn_axes = lvl+'axes'+'.csv' # Axes = axial ratios (sqrt of eigenvals)\n",
    "# Triaxial system approximation with Isopotential contours\n",
    "fn_axes_pot = lvl+'potential_axes'+'.csv'\n",
    "# Triaxial system approximation with Isodensity contours\n",
    "fn_axes_den = lvl+'density_axes'+'.csv'\n",
    "\n",
    "\n",
    "\n",
    "# Reads file in \"path/filename\"\n",
    "# Returns data as a numpy array\n",
    "# Returns filenames as a list of strings\n",
    "# Returns headers as an array of strings\n",
    "\n",
    "def read_csv(filename,skip_header=1):\n",
    "\n",
    "    # Removes quotations from file (little writing error) \n",
    "    os.system('sed -i \\'s/\"//g\\' '+filename) \n",
    "    \n",
    "    # FILENAMES!\n",
    "    headers = []\n",
    "    with open( filename , 'r') as myfile:\n",
    "        rd = csv.reader(myfile)\n",
    "        headers = next(rd) # gets only first line \n",
    "    \n",
    "    data = np.genfromtxt(filename, delimiter = ',', skip_header=skip_header, dtype=float )\n",
    "    \n",
    "    return headers,data"
   ]
  },
  {
   "cell_type": "markdown",
   "metadata": {},
   "source": [
    "# Obteniendo los datos"
   ]
  },
  {
   "cell_type": "code",
   "execution_count": 10,
   "metadata": {
    "collapsed": false
   },
   "outputs": [
    {
     "name": "stdout",
     "output_type": "stream",
     "text": [
      "['a12', 'b12', 'c12', 'a25', 'b25', 'c25', 'a50', 'b50', 'c50', 'a1', 'b1', 'c1', 'aDisk', 'bDisk', 'cDisk']\n",
      "['a12', 'b12', 'c12', 'a25', 'b25', 'c25', 'a50', 'b50', 'c50', 'a1', 'b1', 'c1', 'aDisk', 'bDisk', 'cDisk']\n",
      "['a12', 'b12', 'c12', 'a25', 'b25', 'c25', 'a50', 'b50', 'c50', 'a1', 'b1', 'c1', 'aDisk', 'bDisk', 'cDisk']\n"
     ]
    }
   ],
   "source": [
    "# Obtiene el contenido del archivo de semiejes\n",
    "headers,axes = read_csv(folder+fn_axes)\n",
    "print(headers)\n",
    "headers,axes_den = read_csv(folder+fn_axes_den)\n",
    "print(headers)\n",
    "headers,axes_pot = read_csv(folder+fn_axes_pot)\n",
    "print(headers)"
   ]
  },
  {
   "cell_type": "markdown",
   "metadata": {},
   "source": [
    "# Definiciones\n",
    "Funciones para estimar los ejes "
   ]
  },
  {
   "cell_type": "code",
   "execution_count": 11,
   "metadata": {
    "collapsed": true
   },
   "outputs": [],
   "source": [
    "\n",
    "# given axes from volumetric density, returns the estimated axes of the potential.\n",
    "# Simplification from approximation from Binney and Tremaine\n",
    "# Super simplified version\n",
    "# Used in papers\n",
    "def get_potential_axes(axes):\n",
    "    A = axes[0]/axes[2]\n",
    "    B = axes[1]/axes[2]\n",
    "    \n",
    "    A = 3*(A-1)+1\n",
    "    B = 3*(B-1)+1\n",
    "    \n",
    "    axes[1] = axes[0]*B/A\n",
    "    axes[2] = axes[0]/A\n",
    "    \n",
    "    return axes        \n",
    "    \n",
    "    \n",
    "# given axes from volumetric density, returns the estimated axes of the potential.\n",
    "# Simplification from approximation from Binney & Tremaine\n",
    "# Simplified version 1\n",
    "# Simplification of higher order\n",
    "def get_potential_axes2(axes):\n",
    "    A = axes[0]/axes[2]\n",
    "    B = axes[1]/axes[2]\n",
    "    \n",
    "    A = A*np.sqrt(2*A**2-1)\n",
    "    B = B*np.sqrt(2*B**2-1)\n",
    "    \n",
    "    axes[1] = axes[0]*B/A\n",
    "    axes[2] = axes[0]/A\n",
    "    \n",
    "    return axes     \n",
    "    \n",
    "# given axes from volumetric density, returns the estimated axes of the potential.\n",
    "# Simplification from approximation from Binney & Tremaine\n",
    "# Simplified version 2 \n",
    "# Playing with interpretation and approximation of this formula\n",
    "# for oblate halos to triaxial ones\n",
    "\n",
    "def get_potential_axes3(axes):\n",
    "    A = axes[1]/axes[0]\n",
    "    B = axes[2]/axes[0]\n",
    "    \n",
    "    A = A*np.sqrt(2*A**2-1)\n",
    "    B = B*np.sqrt(2*B**2-1)\n",
    "    \n",
    "    axes[1] = A*axes[0]\n",
    "    axes[2] = B*axes[0]\n",
    "    \n",
    "    return axes        \n"
   ]
  },
  {
   "cell_type": "code",
   "execution_count": null,
   "metadata": {
    "collapsed": true
   },
   "outputs": [],
   "source": []
  }
 ],
 "metadata": {
  "kernelspec": {
   "display_name": "Python 3",
   "language": "python",
   "name": "python3"
  },
  "language_info": {
   "codemirror_mode": {
    "name": "ipython",
    "version": 3
   },
   "file_extension": ".py",
   "mimetype": "text/x-python",
   "name": "python",
   "nbconvert_exporter": "python",
   "pygments_lexer": "ipython3",
   "version": "3.5.2"
  }
 },
 "nbformat": 4,
 "nbformat_minor": 2
}
