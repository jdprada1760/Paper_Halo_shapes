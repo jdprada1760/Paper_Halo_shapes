{
 "cells": [
  {
   "cell_type": "code",
   "execution_count": 2,
   "metadata": {
    "collapsed": true,
    "deletable": true,
    "editable": true
   },
   "outputs": [],
   "source": [
    "import matplotlib\n",
    "#matplotlib.use('Agg')\n",
    "import sys\n",
    "import gc\n",
    "import numpy as np\n",
    "import matplotlib.pyplot as plt\n",
    "from matplotlib.backends.backend_pdf import PdfPages\n",
    "from matplotlib.ticker import FormatStrFormatter\n",
    "\n",
    "# Para manejar los archivos y automatizar la lectura en directorios\n",
    "import csv\n",
    "import os"
   ]
  },
  {
   "cell_type": "markdown",
   "metadata": {
    "deletable": true,
    "editable": true
   },
   "source": [
    "# Nombres de archivo, paths y definiciones"
   ]
  },
  {
   "cell_type": "code",
   "execution_count": 3,
   "metadata": {
    "collapsed": true,
    "deletable": true,
    "editable": true
   },
   "outputs": [],
   "source": [
    "# SOME DEFINITIONS\n",
    "# Level of the simulation ('_' for filename format)\n",
    "lvl = 'Level 4/level4_'\n",
    "# number of halos\n",
    "nhalos = 30 \n",
    "\n",
    "'''# level of the simulation\n",
    "lvl = 'Level 3/level3_'\n",
    "# number of halos\n",
    "nhalos = 6''' \n",
    "\n",
    "# FOLDER CONTAINING ALL FILES\n",
    "folder = '../Data/Halo_General/'\n",
    "\n",
    "# FILENAMES\n",
    "# Triaxial eigensystem different radii (MHD & DM) using volumetric (mean) density: Allgood et al.\n",
    "fn_axes = lvl+'axes'+'.csv' # Axes = axial ratios (sqrt of eigenvals)\n",
    "# Triaxial system approximation with Isopotential contours\n",
    "fn_axes_pot = lvl+'potential_axes'+'.csv'\n",
    "# Triaxial system approximation with Isodensity contours\n",
    "fn_axes_den = lvl+'density_axes'+'.csv'\n",
    "\n",
    "\n",
    "\n",
    "# Reads file in \"path/filename\"\n",
    "# Returns data as a numpy array\n",
    "# Returns filenames as a list of strings\n",
    "# Returns headers as an array of strings\n",
    "\n",
    "def read_csv(filename,skip_header=1):\n",
    "\n",
    "    # Removes quotations from file (little writing error) \n",
    "    os.system('sed -i \\'s/\"//g\\' '+filename) \n",
    "    \n",
    "    # FILENAMES!\n",
    "    headers = []\n",
    "    with open( filename , 'r') as myfile:\n",
    "        rd = csv.reader(myfile)\n",
    "        headers = next(rd) # gets only first line \n",
    "    \n",
    "    data = np.genfromtxt(filename, delimiter = ',', skip_header=skip_header, dtype=float )\n",
    "    \n",
    "    return headers,data"
   ]
  },
  {
   "cell_type": "markdown",
   "metadata": {
    "deletable": true,
    "editable": true
   },
   "source": [
    "# Obteniendo los datos"
   ]
  },
  {
   "cell_type": "code",
   "execution_count": 4,
   "metadata": {
    "collapsed": false,
    "deletable": true,
    "editable": true
   },
   "outputs": [
    {
     "name": "stdout",
     "output_type": "stream",
     "text": [
      "['a12', 'b12', 'c12', 'a25', 'b25', 'c25', 'a50', 'b50', 'c50', 'a1', 'b1', 'c1', 'aDisk', 'bDisk', 'cDisk']\n",
      "['a12', 'b12', 'c12', 'a25', 'b25', 'c25', 'a50', 'b50', 'c50', 'a1', 'b1', 'c1', 'aDisk', 'bDisk', 'cDisk']\n",
      "['a12', 'b12', 'c12', 'a25', 'b25', 'c25', 'a50', 'b50', 'c50', 'a1', 'b1', 'c1', 'aDisk', 'bDisk', 'cDisk']\n"
     ]
    }
   ],
   "source": [
    "# Obtiene el contenido del archivo de semiejes\n",
    "headers,axes = read_csv(folder+fn_axes)\n",
    "print(headers)\n",
    "headers,axes_den = read_csv(folder+fn_axes_den)\n",
    "print(headers)\n",
    "headers,axes_pot = read_csv(folder+fn_axes_pot)\n",
    "print(headers)"
   ]
  },
  {
   "cell_type": "markdown",
   "metadata": {
    "deletable": true,
    "editable": true
   },
   "source": [
    "# Definiciones\n",
    "Funciones para estimar los ejes "
   ]
  },
  {
   "cell_type": "code",
   "execution_count": 9,
   "metadata": {
    "collapsed": true,
    "deletable": true,
    "editable": true
   },
   "outputs": [],
   "source": [
    "\n",
    "# given axes from isopotential contounrs, returns the estimated axes of isodensity contours.\n",
    "# Simplification from approximation from Binney and Tremaine\n",
    "# Super simplified version\n",
    "# Used in papers https://watermark.silverchair.com/912.pdf?token=AQECAHi208BE49Ooan9kkhW_Ercy7Dm3ZL_9Cf3qfKAc485ysgAAAj4wggI6BgkqhkiG9w0BBwagggIrMIICJwIBADCCAiAGCSqGSIb3DQEHATAeBglghkgBZQMEAS4wEQQMZ7DdyPCl2DEr-0OIAgEQgIIB8cfsK9UUR2QWCInOKuHM_2P_HRUlsApdjO58k-shqoJoUiU8lAhMZIF_BQq7b1jT9A2ysT9RcqPDgAi6XDdu-L9qRPIigP7z2WTI-B5tS4hiGwiKFVeb8BfkPUEXu2HtYMO_OCiVKAm7Ri06KYVa0feHRb13qYmw0E353o7PxthjP--wucJO33hT74OCmMXNGwc656cSYG60hzj37l5SITVBF5zWFhbSHUMwaR89jbDqjFBabuSgrtyFdS-WVvbLHJK3k3_0MQBYxOFntbE0b-2ogTDZmYFmfDm0zz9p-li0gO1TSWal_kXxJj4lomAh-yuFdYZBje7HoEotsrme_PdMWeuY5fF-hiGwpWUv37Yh7OpDDtClMTOB43RRLFklRzuw9UMJjMF2PiScXZNAfepYVyWU4zwOcTGU7_4GDy_nzyksuJtStuBOjl3uYd7Z3mWo6oY0o80lTlE8myuYowE5FWli501HG588pC4pvljknsGDuNVk-O4-n6DnpCRni6980dIERL7uFpqTRHObSiUsCmESX_yq2bavGfttj8TlcY12qYliMMlERfRK5N09QcdCcbKa8FzkhSyW244iJat7Lm96SfE-TI_Mf6d1cQZIgcGQv1JWiAj_fRiVdAQGRja9uACHwAIdqUl2OoJHSSm6\n",
    "# Here the ratios are with respect to the z axis.Sometimes it is bigger than one, and some times it is less than one\n",
    "# We assume z axis is the smaller axis and the halo is approximately axisymmetric (for the formula to be valid)\n",
    "def get_density_axes(axes):\n",
    "    \n",
    "    # Mid and Major axes are treated as the equals\n",
    "    A = axes[0]/axes[2]\n",
    "    B = axes[1]/axes[2]\n",
    "    \n",
    "    # Axis relation from Binney and Tremaine\n",
    "    A = 3*(A-1)+1\n",
    "    B = 3*(B-1)+1\n",
    "    \n",
    "    # We decide to maintain the major axis constant\n",
    "    # this is irrelevant as we are treating axial ratios\n",
    "    axes[1] = axes[0]*B/A\n",
    "    axes[2] = axes[0]/A\n",
    "    \n",
    "    return axes        \n",
    "    \n",
    "    \n",
    "# given axes from isopotential contounrs, returns the estimated axes of isodensity contours.\n",
    "# Simplification from approximation from Binney & Tremaine\n",
    "# Simplified version 1\n",
    "# Simplification of higher order given a logarithmic halo potential\n",
    "def get_density_axes2(axes):\n",
    "    A = axes[0]/axes[2]\n",
    "    B = axes[1]/axes[2]\n",
    "    \n",
    "    A = A*np.sqrt(2*A**2-1)\n",
    "    B = B*np.sqrt(2*B**2-1)\n",
    "    \n",
    "    axes[1] = axes[0]*B/A\n",
    "    axes[2] = axes[0]/A\n",
    "    \n",
    "    return axes     \n",
    "    \n",
    "# given axes from isopotential contounrs, returns the estimated axes of isodensity contours.\n",
    "# Simplification from approximation from Binney & Tremaine\n",
    "# Simplified version 2 \n",
    "# Playing with interpretation and approximation of this formula\n",
    "# for oblate halos to triaxial ones\n",
    "\n",
    "def get_density_axes3(axes):\n",
    "    A = axes[1]/axes[0]\n",
    "    B = axes[2]/axes[0]\n",
    "    \n",
    "    A = A*np.sqrt(2*A**2-1)\n",
    "    B = B*np.sqrt(2*B**2-1)\n",
    "    \n",
    "    axes[1] = A*axes[0]\n",
    "    axes[2] = B*axes[0]\n",
    "    \n",
    "    return axes        \n"
   ]
  },
  {
   "cell_type": "markdown",
   "metadata": {
    "collapsed": true,
    "deletable": true,
    "editable": true
   },
   "source": [
    "### Formato de archivo\n",
    "\\n\n",
    "<font size=3>\n",
    "En el archivo de semiejes, la primera letra es el semieje correspondiente $a>b>c$\n",
    "Los caracteres consecutivos indican el radio en el que fue caracterizada la forma:\n",
    "</font>\n",
    "\n",
    "*  $12 \\equiv 12.5\\%\\ R_{vir}$ \n",
    "*  $25 \\equiv 25\\%\\ R_{vir}$ \n",
    "*  $50 \\equiv 50\\%\\ R_{vir}$ \n",
    "*  $Disk \\equiv Sampleado\\ en\\ el\\ disco\\ estelar$ \n",
    "\n",
    "\\\n",
    "<font size=3>\n",
    "Adicionalmente, en terminos de filas, el archivo muestra los ejes de los halos MHD y DM intercalados de la siguiente manera:\n",
    "</font>\n",
    "\n",
    "*  --------Header------------\n",
    "*  ----Info Halo1 MHD----\n",
    "*  ----Info Halo1  DM------\n",
    "*  ----Info Halo2 MHD----\n",
    "*  ----Info Halo2  DM------\n",
    "*        -------------...--------------\n",
    "\n",
    "<font size=3>\n",
    "Sin embargo, los otros metodos se calcularon unicamente para los halos DM ya que para estos existe una aproximacion teorica con la cual se puede comparar. Entonces, solo se cuenta con la informacion DM para estos metodos de obtencion de la forma de halos:\n",
    "</font>\n",
    "\n",
    "*  --------Header------------\n",
    "*  ----Info Halo1  DM------\n",
    "*  ----Info Halo2  DM------\n",
    "*        -------------...--------------\n",
    "\n",
    "\n",
    "\\\n",
    "\n",
    "<font size=3>\n",
    "Para el archivo de vectores de ejes principales el formato sigue la misma logica\n",
    "</font>\n"
   ]
  },
  {
   "cell_type": "code",
   "execution_count": 10,
   "metadata": {
    "collapsed": false,
    "deletable": true,
    "editable": true
   },
   "outputs": [],
   "source": [
    "# Dado el formato del archivo explicado anteriormente\n",
    "# Se obtienen los resultados en terminos de arrays\n",
    "\n",
    "# RADII SAMPLED\n",
    "rad_sampl = ['12.5%Rvir'\n",
    "            ,'25%Rvir'\n",
    "            ,'50%Rvir'\n",
    "            ,'100%Rvir'\n",
    "            ,'Stellar Disk']\n",
    "\n",
    "# AXES\n",
    "axes = np.reshape(axes,(2*nhalos,5,3)) # contains DM and MHD (2*nhalos) axes (3) sampled at (5) radii\n",
    "axesMHD = axes[::2] #organized halo1MHD,halo1DM,halo2MHD,halo2DM....\n",
    "axesDM = axes[1::2]\n",
    "\n",
    "# Isodensity axes\n",
    "# indices > haloid, rad_sampled, axis id\n",
    "axes_den = np.reshape(axes_den,(nhalos,5,3)) # contains DM and MHD (2*nhalos) axes (3) sampled at (5) radii\n",
    "\n",
    "# Isopotential axes\n",
    "axes_pot = np.reshape(axes_pot,(nhalos,5,3)) # contains DM and MHD (2*nhalos) axes (3) sampled at (5) radii\n"
   ]
  },
  {
   "cell_type": "markdown",
   "metadata": {
    "deletable": true,
    "editable": true
   },
   "source": [
    "# Plots"
   ]
  },
  {
   "cell_type": "code",
   "execution_count": 17,
   "metadata": {
    "collapsed": false,
    "deletable": true,
    "editable": true
   },
   "outputs": [
    {
     "name": "stdout",
     "output_type": "stream",
     "text": [
      "[[  1.00000000e+00   1.00000000e+00   1.00000000e+00 ...,   1.00000000e+00\n",
      "    1.00000000e+00   1.00000000e+00]\n",
      " [  0.00000000e+00   1.00100100e-03   2.00200200e-03 ...,   9.97997998e-01\n",
      "    9.98998999e-01   1.00000000e+00]\n",
      " [  1.00000000e-04   1.00000000e-04   1.00000000e-04 ...,   1.00000000e+00\n",
      "    1.00000000e+00   1.00000000e+00]]\n"
     ]
    },
    {
     "data": {
      "image/png": "[encoded data removed]",
      "text/plain": [
       "<matplotlib.figure.Figure at 0x7f62148f4c50>"
      ]
     },
     "metadata": {},
     "output_type": "display_data"
    }
   ],
   "source": [
    "# VOLUMETRIC\n",
    "q = axesDM[:,-2,1]/axesDM[:,-2,0] # mid to major axial ratio\n",
    "s = axesDM[:,-2,2]/axesDM[:,-2,0] # minor to major axial ratio\n",
    "\n",
    "# ISODENSITY\n",
    "q_den = axes_den[:,-2,1]/axes_den[:,-2,0] # mid to major axial ratio\n",
    "s_den = axes_den[:,-2,2]/axes_den[:,-2,0] # minor to major axial ratio\n",
    "\n",
    "# ISODENSITY\n",
    "q_pot = axes_pot[:,-2,1]/axes_pot[:,-2,0] # mid to major axial ratio\n",
    "s_pot = axes_pot[:,-2,2]/axes_pot[:,-2,0] # minor to major axial ratio\n",
    "\n",
    "\n",
    "# Binney and Tremaine formula\n",
    "## (Q,S) = (f(q,s),g(q,s))\n",
    "# Given it is bivariate in each variable, we got to choose different values for s\n",
    "# Volumetric density semiaxes\n",
    "s_BT = np.array([0.0001,0.25,0.5,0.75,1]*1000)\n",
    "s_BT.sort()\n",
    "q_BT = np.array(5*list(np.linspace(0,1,1000)))\n",
    "axes_BT = np.zeros((3,5000))\n",
    "axes_BT[0] = 1.0\n",
    "\n",
    "# PRINCIPAL AXIS 1\n",
    "axes_BT[1] = q_BT\n",
    "axes_BT[2] = s_BT\n",
    "print(axes_BT)\n",
    "\n",
    "# The potential axes\n",
    "axes_BT_den = get_density_axes(axes_BT.copy())\n",
    "\n",
    "# ISODENSITY\n",
    "q_BT_den = (axes_BT_den[1]/axes_BT_den[0]).reshape((5,1000)) # mid to major axial ratio\n",
    "s_BT_den = (axes_BT_den[2]/axes_BT_den[0]).reshape((5,1000)) # minor to major axial ratio\n",
    "\n",
    "\n",
    "# Plots real data collected\n",
    "plt.scatter((q),q_pot)\n",
    "# Binney and tremaine plots\n",
    "for i in range(0,5):\n",
    "    plt.plot(q_BT_den[i],q_BT[:1000],label = s_BT.reshape(5,1000)[i,0])\n",
    "    \n",
    "    \n",
    "plt.xlim(0.5,1)\n",
    "plt.ylim(0.6,1)\n",
    "    \n",
    "plt.xlabel('q')\n",
    "plt.ylabel('q_pot')\n",
    "plt.legend()\n",
    "plt.show()\n",
    "\n"
   ]
  },
  {
   "cell_type": "code",
   "execution_count": null,
   "metadata": {
    "collapsed": false,
    "deletable": true,
    "editable": true
   },
   "outputs": [],
   "source": []
  },
  {
   "cell_type": "code",
   "execution_count": 8,
   "metadata": {
    "collapsed": false,
    "deletable": true,
    "editable": true
   },
   "outputs": [
    {
     "data": {
      "text/plain": [
       "array([[  1.00000000e+00,   1.00000000e+00,   1.00000000e+00, ...,\n",
       "          1.00000000e+00,   1.00000000e+00,   1.00000000e+00],\n",
       "       [  0.00000000e+00,   1.00100100e-03,   2.00200200e-03, ...,\n",
       "          9.97997998e-01,   9.98998999e-01,   1.00000000e+00],\n",
       "       [  1.00000000e-04,   1.00000000e-04,   1.00000000e-04, ...,\n",
       "          1.00000000e+00,   1.00000000e+00,   1.00000000e+00]])"
      ]
     },
     "execution_count": 8,
     "metadata": {},
     "output_type": "execute_result"
    }
   ],
   "source": [
    "axes_BT"
   ]
  },
  {
   "cell_type": "code",
   "execution_count": 9,
   "metadata": {
    "collapsed": false,
    "deletable": true,
    "editable": true
   },
   "outputs": [
    {
     "data": {
      "text/plain": [
       "array([[ 1.      ,  0.      ,  0.      ],\n",
       "       [ 1.      ,  0.      ,       nan],\n",
       "       [ 1.      , -0.      ,       nan],\n",
       "       ..., \n",
       "       [ 1.      ,  0.997998,  1.      ],\n",
       "       [ 1.      ,  0.998999,  1.      ],\n",
       "       [ 1.      ,  1.      ,  1.      ]])"
      ]
     },
     "execution_count": 9,
     "metadata": {},
     "output_type": "execute_result"
    }
   ],
   "source": [
    "axes_BT_pot\n"
   ]
  },
  {
   "cell_type": "code",
   "execution_count": null,
   "metadata": {
    "collapsed": true,
    "deletable": true,
    "editable": true
   },
   "outputs": [],
   "source": []
  }
 ],
 "metadata": {
  "kernelspec": {
   "display_name": "Python 3",
   "language": "python",
   "name": "python3"
  },
  "language_info": {
   "codemirror_mode": {
    "name": "ipython",
    "version": 3
   },
   "file_extension": ".py",
   "mimetype": "text/x-python",
   "name": "python",
   "nbconvert_exporter": "python",
   "pygments_lexer": "ipython3",
   "version": "3.5.2"
  }
 },
 "nbformat": 4,
 "nbformat_minor": 2
}
